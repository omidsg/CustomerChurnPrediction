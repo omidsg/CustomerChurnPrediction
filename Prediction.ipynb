{
 "cells": [
  {
   "cell_type": "code",
   "execution_count": null,
   "id": "5aeed44f",
   "metadata": {},
   "outputs": [],
   "source": [
    "import pandas as pd\n",
    "import numpy as np\n",
    "import missingno as msno\n",
    "import matplotlib.pyplot as plt\n",
    "%matplotlib inline\n",
    "import seaborn as sns\n",
    "import tensorflow as tf\n",
    "from functools import partial\n",
    "from tensorflow import keras\n",
    "import plotly.express as px\n",
    "import plotly.graph_objects as go\n",
    "from plotly.subplots import make_subplots\n",
    "from statistics import mean\n",
    "import warnings\n",
    "warnings.filterwarnings('ignore')"
   ]
  },
  {
   "cell_type": "code",
   "execution_count": null,
   "id": "aeb302ba",
   "metadata": {},
   "outputs": [],
   "source": [
    "from sklearn.preprocessing import StandardScaler\n",
    "from sklearn.preprocessing import LabelEncoder\n",
    "from sklearn.preprocessing import MinMaxScaler\n",
    "from sklearn.tree import DecisionTreeClassifier\n",
    "from sklearn.ensemble import RandomForestClassifier\n",
    "from sklearn.naive_bayes import GaussianNB\n",
    "from sklearn.neighbors import KNeighborsClassifier\n",
    "from sklearn.svm import SVC\n",
    "from sklearn.neural_network import MLPClassifier\n",
    "from sklearn.ensemble import AdaBoostClassifier\n",
    "from sklearn.ensemble import GradientBoostingClassifier\n",
    "from sklearn.ensemble import ExtraTreesClassifier\n",
    "from sklearn.linear_model import LogisticRegression\n",
    "from sklearn.model_selection import train_test_split\n",
    "from sklearn.ensemble import VotingClassifier\n",
    "from xgboost import XGBClassifier\n",
    "from catboost import CatBoostClassifier\n",
    "from functools import partial\n",
    "from tensorflow import keras\n",
    "from imblearn.over_sampling import SMOTE\n",
    "from sklearn import metrics\n",
    "from sklearn.metrics import roc_curve,auc,roc_auc_score\n",
    "from sklearn.metrics import recall_score, confusion_matrix, precision_score, f1_score, accuracy_score, classification_report\n",
    "from keras.wrappers.scikit_learn import KerasClassifier\n",
    "from sklearn.pipeline import Pipeline\n",
    "from keras.layers import Dense\n",
    "from keras.models import Sequential"
   ]
  },
  {
   "cell_type": "code",
   "execution_count": null,
   "id": "288bcdbe",
   "metadata": {},
   "outputs": [],
   "source": [
    "data = pd.read_csv(\"data.csv\")"
   ]
  },
  {
   "cell_type": "code",
   "execution_count": null,
   "id": "d67e769b",
   "metadata": {},
   "outputs": [],
   "source": [
    "##-----------------Undertanding the data-----------------------"
   ]
  },
  {
   "cell_type": "code",
   "execution_count": null,
   "id": "a2667ef9",
   "metadata": {},
   "outputs": [],
   "source": [
    "##Note : Each row represents a customer, each column \n",
    "##contains customer’s attributes described on the column Metadata."
   ]
  },
  {
   "cell_type": "code",
   "execution_count": null,
   "id": "9ebbd89f",
   "metadata": {},
   "outputs": [],
   "source": [
    "data.head()"
   ]
  },
  {
   "cell_type": "code",
   "execution_count": null,
   "id": "695caaeb",
   "metadata": {},
   "outputs": [],
   "source": [
    "##---------------The data set includes information about-----------------\n",
    "##-1-Customers who left within the last month: the column is called Churn\n",
    "##-2-Services that each customer has signed up for: phone, multiple lines, internet, online security, online backup, device protection, tech support, and streaming TV and movies\n",
    "##-3-Customer account information : how long they’ve been a customer, contract, payment method, paperless billing, monthly charges, and total charges\n",
    "##-4-Demographic info about customers : gender, age range, and if they have partners and dependents"
   ]
  },
  {
   "cell_type": "code",
   "execution_count": null,
   "id": "235e863e",
   "metadata": {},
   "outputs": [],
   "source": [
    "data.shape"
   ]
  },
  {
   "cell_type": "code",
   "execution_count": null,
   "id": "17da1b46",
   "metadata": {},
   "outputs": [],
   "source": [
    "data.info()"
   ]
  },
  {
   "cell_type": "code",
   "execution_count": null,
   "id": "504e2680",
   "metadata": {},
   "outputs": [],
   "source": [
    "data.columns.values"
   ]
  },
  {
   "cell_type": "code",
   "execution_count": null,
   "id": "97d5872d",
   "metadata": {},
   "outputs": [],
   "source": [
    "data.dtypes"
   ]
  },
  {
   "cell_type": "code",
   "execution_count": null,
   "id": "d0905c5b",
   "metadata": {},
   "outputs": [],
   "source": [
    "##-------The target the we will use to guide the exploration is Churn----------"
   ]
  },
  {
   "cell_type": "code",
   "execution_count": null,
   "id": "598a5a2c",
   "metadata": {},
   "outputs": [],
   "source": [
    "##---------------Visualize missing values---------------------"
   ]
  },
  {
   "cell_type": "code",
   "execution_count": null,
   "id": "d4bd07d5",
   "metadata": {},
   "outputs": [],
   "source": [
    "msno.matrix(data);"
   ]
  },
  {
   "cell_type": "code",
   "execution_count": null,
   "id": "d617a85b",
   "metadata": {},
   "outputs": [],
   "source": [
    "##--------Using this matrix we can very quickly find the pattern of missingness in the dataset.----\n"
   ]
  },
  {
   "cell_type": "code",
   "execution_count": null,
   "id": "6b1fe818",
   "metadata": {},
   "outputs": [],
   "source": [
    "##--------From the above visualisation we can observe that it has no\n",
    "## peculiar pattern that stands out. In fact there is no missing data."
   ]
  },
  {
   "cell_type": "code",
   "execution_count": null,
   "id": "1504dd4e",
   "metadata": {},
   "outputs": [],
   "source": [
    "##---------------------Data Manipulation ------------------------"
   ]
  },
  {
   "cell_type": "code",
   "execution_count": null,
   "id": "913a45f0",
   "metadata": {},
   "outputs": [],
   "source": [
    "data=data.drop(['customerID'],axis=1)\n",
    "data.head()"
   ]
  },
  {
   "cell_type": "code",
   "execution_count": null,
   "id": "549b19f8",
   "metadata": {},
   "outputs": [],
   "source": [
    "##------On deep analysis, we can find some indirect missingness in our data \n",
    "## (which can be in form of blankspaces). Let's see that!"
   ]
  },
  {
   "cell_type": "code",
   "execution_count": null,
   "id": "831c2027",
   "metadata": {},
   "outputs": [],
   "source": [
    "data['TotalCharges'] = pd.to_numeric(data.TotalCharges, errors='coerce')\n",
    "data.isnull().sum()"
   ]
  },
  {
   "cell_type": "code",
   "execution_count": null,
   "id": "fb59638b",
   "metadata": {},
   "outputs": [],
   "source": [
    "##---------Here we see that the TotalCharges has 11 missing values. Let's check this data.-----"
   ]
  },
  {
   "cell_type": "code",
   "execution_count": null,
   "id": "9afda9e5",
   "metadata": {},
   "outputs": [],
   "source": [
    "data[np.isnan(data['TotalCharges'])]"
   ]
  },
  {
   "cell_type": "code",
   "execution_count": null,
   "id": "c6449ae8",
   "metadata": {},
   "outputs": [],
   "source": [
    "##----It can also be noted that the Tenure column is 0 for these \n",
    "## entries even though the MonthlyCharges column is not empty. -----"
   ]
  },
  {
   "cell_type": "code",
   "execution_count": null,
   "id": "cc4ce7e1",
   "metadata": {},
   "outputs": [],
   "source": [
    "##-------Let's see if there are any other 0 values in the tenure column.------"
   ]
  },
  {
   "cell_type": "code",
   "execution_count": null,
   "id": "880b765e",
   "metadata": {},
   "outputs": [],
   "source": [
    "data[data['tenure'] == 0].index"
   ]
  },
  {
   "cell_type": "code",
   "execution_count": null,
   "id": "5f8baf4a",
   "metadata": {},
   "outputs": [],
   "source": [
    "##-----There are no additional missing values in the Tenure column. "
   ]
  },
  {
   "cell_type": "code",
   "execution_count": null,
   "id": "027c5de1",
   "metadata": {},
   "outputs": [],
   "source": [
    "##------Let's delete the rows with missing values in Tenure columns\n",
    "## since there are only 11 rows and deleting them will not affect the data."
   ]
  },
  {
   "cell_type": "code",
   "execution_count": null,
   "id": "4387698d",
   "metadata": {},
   "outputs": [],
   "source": [
    "data.drop(labels=data[data['tenure'] == 0].index, axis=0, inplace=True)\n",
    "data[data['tenure'] == 0].index"
   ]
  },
  {
   "cell_type": "code",
   "execution_count": null,
   "id": "4a0a4e7d",
   "metadata": {},
   "outputs": [],
   "source": [
    "##-----To solve the problem of missing values in TotalCharges \n",
    "## column, I decided to fill it with the mean of TotalCharges values."
   ]
  },
  {
   "cell_type": "code",
   "execution_count": null,
   "id": "2dee8eab",
   "metadata": {},
   "outputs": [],
   "source": [
    "data.fillna(data[\"TotalCharges\"].mean())"
   ]
  },
  {
   "cell_type": "code",
   "execution_count": null,
   "id": "e8f6b816",
   "metadata": {},
   "outputs": [],
   "source": [
    "data.isnull().sum()"
   ]
  },
  {
   "cell_type": "code",
   "execution_count": null,
   "id": "80091530",
   "metadata": {},
   "outputs": [],
   "source": [
    "data.head()"
   ]
  },
  {
   "cell_type": "code",
   "execution_count": null,
   "id": "23379152",
   "metadata": {},
   "outputs": [],
   "source": [
    "data[\"SeniorCitizen\"]= data[\"SeniorCitizen\"].map({0: \"No\", 1: \"Yes\"})\n",
    "data.head()"
   ]
  },
  {
   "cell_type": "code",
   "execution_count": null,
   "id": "9e5dfa94",
   "metadata": {},
   "outputs": [],
   "source": [
    "##---------------- Data Visualization ------------------------"
   ]
  },
  {
   "cell_type": "code",
   "execution_count": null,
   "id": "4ba5f75c",
   "metadata": {
    "scrolled": false
   },
   "outputs": [],
   "source": [
    "g_labels = ['Male', 'Female']\n",
    "c_labels = ['No', 'Yes']\n",
    "# Create subplots: use 'domain' type for Pie subplot\n",
    "fig = make_subplots(rows=1, cols=2, specs=[[{'type':'domain'}, {'type':'domain'}]])\n",
    "fig.add_trace(go.Pie(labels=g_labels, values=data['gender'].value_counts(), name=\"Gender\"),\n",
    "              1, 1)\n",
    "fig.add_trace(go.Pie(labels=c_labels, values=data['Churn'].value_counts(), name=\"Churn\"),\n",
    "              1, 2)\n",
    "\n",
    "# Use `hole` to create a donut-like pie chart\n",
    "fig.update_traces(hole=.4, hoverinfo=\"label+percent+name\", textfont_size=24)\n",
    "\n",
    "fig.update_layout(\n",
    "    title_text=\"Gender and Churn Distributions\",font_size=24,\n",
    "    # Add annotations in the center of the donut pies.\n",
    "    annotations=[dict(text='Gender', x=0.16, y=0.5, font_size=26, showarrow=False),\n",
    "                 dict(text='Churn', x=0.84, y=0.5, font_size=26, showarrow=False)])\n",
    "fig.show()"
   ]
  },
  {
   "cell_type": "code",
   "execution_count": null,
   "id": "b91a0f8b",
   "metadata": {},
   "outputs": [],
   "source": [
    "# -------------------------Result----------------------------------\n",
    "# 26.6 % of customers switched to another firm.\n",
    "# Customers are 49.5 % female and 50.5 % male.\n",
    "# -----------------------------------------------------------\n"
   ]
  },
  {
   "cell_type": "code",
   "execution_count": null,
   "id": "3336799a",
   "metadata": {},
   "outputs": [],
   "source": [
    "data[\"Churn\"][data[\"Churn\"]==\"No\"].groupby(by=data[\"gender\"]).count()"
   ]
  },
  {
   "cell_type": "code",
   "execution_count": null,
   "id": "6a116ada",
   "metadata": {},
   "outputs": [],
   "source": [
    "data[\"Churn\"][data[\"Churn\"]==\"Yes\"].groupby(by=data[\"gender\"]).count()"
   ]
  },
  {
   "cell_type": "code",
   "execution_count": null,
   "id": "f97c7a9f",
   "metadata": {
    "scrolled": false
   },
   "outputs": [],
   "source": [
    "plt.figure(figsize=(10, 10))\n",
    "labels =[\"Churn: Yes\",\"Churn:No\"]\n",
    "values = [1869,5163]\n",
    "labels_gender = [\"F\",\"M\",\"F\",\"M\"]\n",
    "sizes_gender = [939,930 , 2544,2619]\n",
    "colors = ['#ff6666', '#66b3ff']\n",
    "colors_gender = ['#c2c2f0','#ffb3e6', '#c2c2f0','#ffb3e6']\n",
    "explode = (0.3,0.3) \n",
    "explode_gender = (0.1,0.1,0.1,0.1)\n",
    "textprops = {\"fontsize\":24}\n",
    "#Plot\n",
    "plt.pie(values, labels=labels,autopct='%1.1f%%',pctdistance=1.08, labeldistance=0.8,colors=colors, startangle=90,frame=True, explode=explode,radius=10, textprops =textprops, counterclock = True, )\n",
    "plt.pie(sizes_gender,labels=labels_gender,colors=colors_gender,startangle=90, explode=explode_gender,radius=7, textprops =textprops, counterclock = True, )\n",
    "#Draw circle\n",
    "centre_circle = plt.Circle((0,0),5,color='black', fc='white',linewidth=0)\n",
    "fig = plt.gcf()\n",
    "fig.gca().add_artist(centre_circle)\n",
    "\n",
    "plt.title('Churn Distribution Gender: Male(M), Female(F)', fontsize=26, y=1.1)\n",
    "\n",
    "# show plot \n",
    " \n",
    "plt.axis('equal')\n",
    "plt.tight_layout()\n",
    "plt.show()"
   ]
  },
  {
   "cell_type": "code",
   "execution_count": null,
   "id": "58dcce90",
   "metadata": {},
   "outputs": [],
   "source": [
    "# -------------------------Result----------------------------------\n",
    "# There is negligible difference in customer percentage/ count who \n",
    "# changed the service provider. Both genders behaved in similar \n",
    "#fashion when it comes to migrating to another service provider/firm.\n",
    "# -----------------------------------------------------------\n"
   ]
  },
  {
   "cell_type": "code",
   "execution_count": null,
   "id": "03a3c067",
   "metadata": {},
   "outputs": [],
   "source": [
    "fig=px.histogram(data, x=\"Churn\", color=\"Contract\", barmode=\"group\", title=\"Customer contract distribution\")\n",
    "fig.update_layout(width=1000, height=600, bargap=0.1,font_size=24,plot_bgcolor='rgba(0,0,0,0)')\n",
    "fig.update_xaxes(showline=True, linewidth=1, linecolor='black', mirror=True)\n",
    "fig.update_yaxes(showline=True, linewidth=1, linecolor='black', mirror=True)\n",
    "fig.show()"
   ]
  },
  {
   "cell_type": "code",
   "execution_count": null,
   "id": "fd19fef4",
   "metadata": {},
   "outputs": [],
   "source": [
    "# -------------------------Result----------------------------------\n",
    "# About 75% of customer with Month-to-Month Contract opted to \n",
    "# move out as compared to 13% of customrs with One Year Contract \n",
    "# and 3% with Two Year Contract\n",
    "# -----------------------------------------------------------\n"
   ]
  },
  {
   "cell_type": "code",
   "execution_count": null,
   "id": "5b1d3695",
   "metadata": {},
   "outputs": [],
   "source": [
    "labels = data['PaymentMethod'].unique()\n",
    "values = data['PaymentMethod'].value_counts()\n",
    "\n",
    "fig = go.Figure(data=[go.Pie(labels=labels, values=values, hole=.3)])\n",
    "fig.update_layout(title_text=\"Payment Method Distribution\",font_size=24)\n",
    "fig.show()"
   ]
  },
  {
   "cell_type": "code",
   "execution_count": null,
   "id": "ec2eedb0",
   "metadata": {},
   "outputs": [],
   "source": [
    "fig = px.histogram(data, x=\"Churn\", color=\"PaymentMethod\", title=\"Customer Payment Method distribution Churn\")\n",
    "fig.update_layout(width=1000, height=600, bargap=0.1,font_size=24,plot_bgcolor='rgba(0,0,0,0)')\n",
    "fig.update_xaxes(showline=True, linewidth=1, linecolor='black', mirror=True)\n",
    "fig.update_yaxes(showline=True, linewidth=1, linecolor='black', mirror=True)\n",
    "fig.show()"
   ]
  },
  {
   "cell_type": "code",
   "execution_count": null,
   "id": "c5f59e2e",
   "metadata": {},
   "outputs": [],
   "source": [
    "# -------------------------Result----------------------------------\n",
    "# - Major customers who moved out were having Electronic Check as\n",
    "#   Payment Method.\n",
    "#\n",
    "# - Customers who opted for Credit-Card automatic transfer or Bank \n",
    "#   Automatic Transfer and Mailed Check as Payment Method were less \n",
    "#   likely to move out. \n",
    "# -----------------------------------------------------------\n"
   ]
  },
  {
   "cell_type": "code",
   "execution_count": null,
   "id": "b1cac174",
   "metadata": {},
   "outputs": [],
   "source": [
    "data[\"InternetService\"].unique()"
   ]
  },
  {
   "cell_type": "code",
   "execution_count": null,
   "id": "b247b1e9",
   "metadata": {},
   "outputs": [],
   "source": [
    "data[data[\"gender\"]==\"Male\"][[\"InternetService\", \"Churn\"]].value_counts()"
   ]
  },
  {
   "cell_type": "code",
   "execution_count": null,
   "id": "95f5732f",
   "metadata": {},
   "outputs": [],
   "source": [
    "data[data[\"gender\"]==\"Female\"][[\"InternetService\", \"Churn\"]].value_counts()"
   ]
  },
  {
   "cell_type": "code",
   "execution_count": null,
   "id": "e33ba7e3",
   "metadata": {},
   "outputs": [],
   "source": [
    "fig = go.Figure()\n",
    "fig.add_trace(go.Bar(\n",
    "  x = [['Churn:No', 'Churn:No', 'Churn:Yes', 'Churn:Yes'],\n",
    "       [\"Female\", \"Male\", \"Female\", \"Male\"]],\n",
    "  y = [965, 992, 219, 240],\n",
    "  name = 'DSL',\n",
    "))\n",
    "\n",
    "fig.add_trace(go.Bar(\n",
    "  x = [['Churn:No', 'Churn:No', 'Churn:Yes', 'Churn:Yes'],\n",
    "       [\"Female\", \"Male\", \"Female\", \"Male\"]],\n",
    "  y = [889, 910, 664, 633],\n",
    "  name = 'Fiber optic',\n",
    "))\n",
    "\n",
    "fig.add_trace(go.Bar(\n",
    "  x = [['Churn:No', 'Churn:No', 'Churn:Yes', 'Churn:Yes'],\n",
    "       [\"Female\", \"Male\", \"Female\", \"Male\"]],\n",
    "  y = [690, 717, 56, 57],\n",
    "  name = 'No Internet',\n",
    "))\n",
    "fig.update_layout(title_text=\"Churn Distribution Internet Service and Gender\",font_size=24,plot_bgcolor='rgba(0,0,0,0)')\n",
    "fig.update_xaxes(showline=True, linewidth=1, linecolor='black', mirror=True)\n",
    "fig.update_yaxes(showline=True, linewidth=1, linecolor='black', mirror=True)\n",
    "fig.show()"
   ]
  },
  {
   "cell_type": "code",
   "execution_count": null,
   "id": "e9825950",
   "metadata": {},
   "outputs": [],
   "source": [
    "# -------------------------Result----------------------------------\n",
    "# - A lot of customers choose the Fiber optic service and it's also \n",
    "#   evident that the customers who use Fiber optic have high churn \n",
    "#   rate, this might suggest a dissatisfaction with this type of internet\n",
    "#   service.\n",
    "#\n",
    "# - Customers having DSL service are majority in number and have less \n",
    "#   churn rate compared to Fibre optic service.\n",
    "# -----------------------------------------------------------\n"
   ]
  },
  {
   "cell_type": "code",
   "execution_count": null,
   "id": "5ab9abe3",
   "metadata": {},
   "outputs": [],
   "source": [
    "color_map = {\"Yes\": \"#FF97FF\", \"No\": \"#AB63FA\"}\n",
    "fig = px.histogram(data, x=\"Churn\", color=\"Dependents\", barmode=\"group\", title=\"Dependents distribution\", color_discrete_map=color_map)\n",
    "fig.update_layout(width=1000, height=600, bargap=0.1,font_size=24,plot_bgcolor='rgba(0,0,0,0)')\n",
    "fig.update_xaxes(showline=True, linewidth=1, linecolor='black', mirror=True)\n",
    "fig.update_yaxes(showline=True, linewidth=1, linecolor='black', mirror=True)\n",
    "fig.show()"
   ]
  },
  {
   "cell_type": "code",
   "execution_count": null,
   "id": "b0d69ff2",
   "metadata": {},
   "outputs": [],
   "source": [
    "# -------------------------Result----------------------------------\n",
    "# - Customers without dependents are more likely to churn\n",
    "# -----------------------------------------------------------\n"
   ]
  },
  {
   "cell_type": "code",
   "execution_count": null,
   "id": "644c8da9",
   "metadata": {},
   "outputs": [],
   "source": [
    "color_map = {\"Yes\": '#FFA15A', \"No\": '#00CC96'}\n",
    "fig = px.histogram(data, x=\"Churn\", color=\"Partner\", barmode=\"group\", title=\"Chrun distribution Partners\", color_discrete_map=color_map)\n",
    "fig.update_layout(width=1000, height=600, bargap=0.1,font_size=24,plot_bgcolor='rgba(0,0,0,0)')\n",
    "fig.update_xaxes(showline=True, linewidth=1, linecolor='black', mirror=True)\n",
    "fig.update_yaxes(showline=True, linewidth=1, linecolor='black', mirror=True)\n",
    "fig.show()"
   ]
  },
  {
   "cell_type": "code",
   "execution_count": null,
   "id": "26f3a155",
   "metadata": {},
   "outputs": [],
   "source": [
    "# -------------------------Result----------------------------------\n",
    "# - Customers that doesn't have partners are more likely to churn\n",
    "# -----------------------------------------------------------"
   ]
  },
  {
   "cell_type": "code",
   "execution_count": null,
   "id": "517f7741",
   "metadata": {},
   "outputs": [],
   "source": [
    "color_map = {\"Yes\": '#00CC96', \"No\": '#B6E880'}\n",
    "fig = px.histogram(data, x=\"Churn\", color=\"SeniorCitizen\", title=\"Chrun distribution Senior Citizen\", color_discrete_map=color_map)\n",
    "fig.update_layout(width=1000, height=600, bargap=0.1,font_size=24,plot_bgcolor='rgba(0,0,0,0)')\n",
    "fig.update_xaxes(showline=True, linewidth=1, linecolor='black', mirror=True)\n",
    "fig.update_yaxes(showline=True, linewidth=1, linecolor='black', mirror=True)\n",
    "fig.show()"
   ]
  },
  {
   "cell_type": "code",
   "execution_count": null,
   "id": "0fdf23df",
   "metadata": {},
   "outputs": [],
   "source": [
    "# -------------------------Result----------------------------------\n",
    "# - It can be observed that the fraction of senior citizen is very less.\n",
    "# - Most of the senior citizens churn.\n",
    "# -----------------------------------------------------------"
   ]
  },
  {
   "cell_type": "code",
   "execution_count": null,
   "id": "1994e6d3",
   "metadata": {},
   "outputs": [],
   "source": [
    "color_map = {\"Yes\": \"#FF97FF\", \"No\": \"#AB63FA\"}\n",
    "fig = px.histogram(data, x=\"Churn\", color=\"OnlineSecurity\", barmode=\"group\", title=\"Churn Online Security\", color_discrete_map=color_map)\n",
    "fig.update_layout(width=1000, height=600, bargap=0.1,font_size=24,plot_bgcolor='rgba(0,0,0,0)')\n",
    "fig.update_xaxes(showline=True, linewidth=1, linecolor='black', mirror=True)\n",
    "fig.update_yaxes(showline=True, linewidth=1, linecolor='black', mirror=True)\n",
    "fig.show()"
   ]
  },
  {
   "cell_type": "code",
   "execution_count": null,
   "id": "a43feb9c",
   "metadata": {},
   "outputs": [],
   "source": [
    "# -------------------------Result----------------------------------\n",
    "# - Most customers churn in the absence of online security\n",
    "# -----------------------------------------------------------"
   ]
  },
  {
   "cell_type": "code",
   "execution_count": null,
   "id": "0ac84030",
   "metadata": {},
   "outputs": [],
   "source": [
    "color_map = {\"Yes\": '#FFA15A', \"No\": '#00CC96'}\n",
    "fig = px.histogram(data, x=\"Churn\", color=\"PaperlessBilling\",  title=\"Chrun distribution Paperless Billing\", color_discrete_map=color_map)\n",
    "fig.update_layout(width=1000, height=600, bargap=0.1,font_size=24,plot_bgcolor='rgba(0,0,0,0)')\n",
    "fig.update_xaxes(showline=True, linewidth=1, linecolor='black', mirror=True)\n",
    "fig.update_yaxes(showline=True, linewidth=1, linecolor='black', mirror=True)\n",
    "fig.show()"
   ]
  },
  {
   "cell_type": "code",
   "execution_count": null,
   "id": "55339921",
   "metadata": {},
   "outputs": [],
   "source": [
    "# -------------------------Result----------------------------------\n",
    "# - Customers with Paperless Billing are most likely to churn\n",
    "# -----------------------------------------------------------"
   ]
  },
  {
   "cell_type": "code",
   "execution_count": null,
   "id": "ad6aacc0",
   "metadata": {},
   "outputs": [],
   "source": [
    "fig = px.histogram(data, x=\"Churn\", color=\"TechSupport\",barmode=\"group\",  title=\"Chrun distribution TechSupport\")\n",
    "fig.update_layout(width=1000, height=600, bargap=0.1,font_size=24,plot_bgcolor='rgba(0,0,0,0)')\n",
    "fig.update_xaxes(showline=True, linewidth=1, linecolor='black', mirror=True)\n",
    "fig.update_yaxes(showline=True, linewidth=1, linecolor='black', mirror=True)\n",
    "fig.show()"
   ]
  },
  {
   "cell_type": "code",
   "execution_count": null,
   "id": "1247816b",
   "metadata": {},
   "outputs": [],
   "source": [
    "# -------------------------Result----------------------------------\n",
    "# -Customers with no TechSupport are most likely to migrate to \n",
    "#  another service provider.\n",
    "# -----------------------------------------------------------"
   ]
  },
  {
   "cell_type": "code",
   "execution_count": null,
   "id": "71f715d5",
   "metadata": {},
   "outputs": [],
   "source": [
    "color_map = {\"Yes\": '#00CC96', \"No\": '#B6E880'}\n",
    "fig = px.histogram(data, x=\"Churn\", color=\"PhoneService\", title=\"Chrun distribution Phone Service\", color_discrete_map=color_map)\n",
    "fig.update_layout(width=1000, height=600, bargap=0.1,font_size=24,plot_bgcolor='rgba(0,0,0,0)')\n",
    "fig.update_xaxes(showline=True, linewidth=1, linecolor='black', mirror=True)\n",
    "fig.update_yaxes(showline=True, linewidth=1, linecolor='black', mirror=True)\n",
    "fig.show()"
   ]
  },
  {
   "cell_type": "code",
   "execution_count": null,
   "id": "cb1c92d6",
   "metadata": {},
   "outputs": [],
   "source": [
    "# -------------------------Result----------------------------------\n",
    "# -Very small fraction of customers don't have a phone service and out  \n",
    "#  of that, 1/3rd Customers are more likely to churn.\n",
    "# -----------------------------------------------------------"
   ]
  },
  {
   "cell_type": "code",
   "execution_count": null,
   "id": "8e7afdad",
   "metadata": {},
   "outputs": [],
   "source": [
    "plt.figure(figsize=(10, 6))\n",
    "sns.set_context(\"paper\",font_scale=2)\n",
    "ax = sns.kdeplot(data.MonthlyCharges[(data[\"Churn\"] == 'No') ],\n",
    "                color=\"Red\", shade = True);\n",
    "ax = sns.kdeplot(data.MonthlyCharges[(data[\"Churn\"] == 'Yes') ],\n",
    "                ax =ax, color=\"Blue\", shade= True);\n",
    "ax.legend([\"Not Churn\",\"Churn\"],loc='upper right');\n",
    "label_font = {'size':'24'}  # Adjust to fit\n",
    "ax.set_ylabel('Density', fontdict=label_font);\n",
    "ax.set_xlabel('Monthly Charges', fontdict=label_font);\n",
    "title_font = {'size':'24'}  # Adjust to fit\n",
    "ax.set_title('Distribution of monthly charges by churn',fontdict=title_font);"
   ]
  },
  {
   "cell_type": "code",
   "execution_count": null,
   "id": "3bdc7cb6",
   "metadata": {},
   "outputs": [],
   "source": [
    "plt.figure(figsize=(10, 6))\n",
    "mc_churn_no = data[data.Churn=='No'].MonthlyCharges\n",
    "mc_churn_yes = data[data.Churn=='Yes'].MonthlyCharges\n",
    "\n",
    "plt.xlabel('Monthly Charges',fontsize=24)\n",
    "plt.ylabel('Number of Customers',fontsize=24)\n",
    "plt.title('Customer Churn Prediction Visualization',fontsize=24)\n",
    "\n",
    "blood_sugar_men = [113,85,90,150,149,88,93,115,135,80,77,82,129]\n",
    "blood_sugar_women =[67,98,89,120,133,150,84,69,89,79,120,112,100] \n",
    "\n",
    "plt.hist([mc_churn_yes,mc_churn_no],rwidth=0.95,color=['green','red'],label=['Churn=Yes','Churn=No'])\n",
    "plt.legend()"
   ]
  },
  {
   "cell_type": "code",
   "execution_count": null,
   "id": "3956c437",
   "metadata": {},
   "outputs": [],
   "source": [
    "# -------------------------Result----------------------------------\n",
    "# -Customers with higher Monthly Charges are also more likely \n",
    "#  to churn\n",
    "# -----------------------------------------------------------"
   ]
  },
  {
   "cell_type": "code",
   "execution_count": null,
   "id": "b0125723",
   "metadata": {},
   "outputs": [],
   "source": [
    "plt.figure(figsize=(10, 6))\n",
    "ax = sns.kdeplot(data.TotalCharges[(data[\"Churn\"] == 'No') ],\n",
    "                color=\"Gold\", shade = True);\n",
    "ax = sns.kdeplot(data.TotalCharges[(data[\"Churn\"] == 'Yes') ],\n",
    "                ax =ax, color=\"Green\", shade= True);\n",
    "ax.legend([\"Not Churn\",\"Churn\"],loc='upper right');\n",
    "label_font = {'size':'24'}  # Adjust to fit\n",
    "ax.set_ylabel('Density',fontdict=label_font);\n",
    "ax.set_xlabel('Total Charges',fontdict=label_font);\n",
    "title_font = {'size':'24'}  # Adjust to fit\n",
    "ax.set_title('Distribution of total charges by churn',fontdict=title_font);"
   ]
  },
  {
   "cell_type": "code",
   "execution_count": null,
   "id": "76966b04",
   "metadata": {},
   "outputs": [],
   "source": [
    "fig = px.box(data, x='Churn', y = 'tenure')\n",
    "\n",
    "# Update yaxis properties\n",
    "fig.update_yaxes(title_text='Tenure (Months)', row=1, col=1)\n",
    "# Update xaxis properties\n",
    "fig.update_xaxes(title_text='Churn', row=1, col=1)\n",
    "# Update size and title\n",
    "fig.update_layout(width=1000, height=600,bargap=0.1,font_size=24,\n",
    "    title='Tenure vs Churn',plot_bgcolor='rgba(0,0,0,0)')\n",
    "fig.update_xaxes(showline=True, linewidth=1, linecolor='black', mirror=True)\n",
    "fig.update_yaxes(showline=True, linewidth=1, linecolor='black', mirror=True)\n",
    "fig.show()"
   ]
  },
  {
   "cell_type": "code",
   "execution_count": null,
   "id": "aa8eea01",
   "metadata": {},
   "outputs": [],
   "source": [
    "# -------------------------Result----------------------------------\n",
    "# -New customers are more likely to churn\n",
    "# -----------------------------------------------------------"
   ]
  },
  {
   "cell_type": "code",
   "execution_count": null,
   "id": "5417058d",
   "metadata": {},
   "outputs": [],
   "source": [
    "plt.figure(figsize=(25, 10))\n",
    "\n",
    "corr = data.apply(lambda x: pd.factorize(x)[0]).corr()\n",
    "\n",
    "mask = np.triu(np.ones_like(corr, dtype=bool))\n",
    "\n",
    "ax = sns.heatmap(corr, mask=mask, xticklabels=corr.columns, yticklabels=corr.columns, annot=True, linewidths=.2, cmap='coolwarm', vmin=-1, vmax=1)"
   ]
  },
  {
   "cell_type": "code",
   "execution_count": null,
   "id": "17f6f12d",
   "metadata": {},
   "outputs": [],
   "source": [
    "def print_unique_col_value(data):\n",
    "    for column in data:\n",
    "        if data[column].dtypes=='object':\n",
    "            print(f'{column}:{data[column].unique()}')"
   ]
  },
  {
   "cell_type": "code",
   "execution_count": null,
   "id": "2f3fac35",
   "metadata": {},
   "outputs": [],
   "source": [
    "print_unique_col_value(data)"
   ]
  },
  {
   "cell_type": "code",
   "execution_count": null,
   "id": "972f575b",
   "metadata": {},
   "outputs": [],
   "source": [
    "##-----------------Get Clone from data to clean ---------------"
   ]
  },
  {
   "cell_type": "code",
   "execution_count": null,
   "id": "6bafd02b",
   "metadata": {},
   "outputs": [],
   "source": [
    "processData=data"
   ]
  },
  {
   "cell_type": "code",
   "execution_count": null,
   "id": "50bf8f9f",
   "metadata": {},
   "outputs": [],
   "source": [
    "processData.replace('No internet service','No',inplace=True)\n",
    "processData.replace('No phone service','No',inplace=True)"
   ]
  },
  {
   "cell_type": "code",
   "execution_count": null,
   "id": "44a2d63e",
   "metadata": {},
   "outputs": [],
   "source": [
    "print_unique_col_value(processData)"
   ]
  },
  {
   "cell_type": "code",
   "execution_count": null,
   "id": "41a12fd6",
   "metadata": {},
   "outputs": [],
   "source": [
    "#-----------Now lets replace yes and no with 0 or 1 ------"
   ]
  },
  {
   "cell_type": "code",
   "execution_count": null,
   "id": "56e36ee2",
   "metadata": {},
   "outputs": [],
   "source": [
    "#---------all cloumn with yes and no\n",
    "yes_no_columns = ['SeniorCitizen','Partner','Dependents','PhoneService','MultipleLines',\n",
    "                 'OnlineSecurity','OnlineBackup','DeviceProtection','TechSupport',\n",
    "                 'StreamingTV','StreamingMovies','PaperlessBilling','Churn'] \n",
    "\n",
    "for col in yes_no_columns:\n",
    "    processData[col].replace({'Yes':1,'No':0},inplace=True)"
   ]
  },
  {
   "cell_type": "code",
   "execution_count": null,
   "id": "d5e8cbe8",
   "metadata": {},
   "outputs": [],
   "source": [
    "for col in processData:\n",
    "    print(f'{col}:{processData[col].unique()}')"
   ]
  },
  {
   "cell_type": "code",
   "execution_count": null,
   "id": "5bfe5b0d",
   "metadata": {},
   "outputs": [],
   "source": [
    "#//--------Change Gender \n",
    "processData['gender'].replace({'Female':1,'Male':0},inplace=True)"
   ]
  },
  {
   "cell_type": "code",
   "execution_count": null,
   "id": "32645fda",
   "metadata": {},
   "outputs": [],
   "source": [
    "processData['gender'].unique()"
   ]
  },
  {
   "cell_type": "code",
   "execution_count": null,
   "id": "88b33499",
   "metadata": {},
   "outputs": [],
   "source": [
    "processData = pd.get_dummies(data=processData,columns=['InternetService','Contract','PaymentMethod'])"
   ]
  },
  {
   "cell_type": "code",
   "execution_count": null,
   "id": "07bb6439",
   "metadata": {},
   "outputs": [],
   "source": [
    "#---------------- Now our data look quite ----------------------\n",
    "processData.sample(4)"
   ]
  },
  {
   "cell_type": "code",
   "execution_count": null,
   "id": "a742364e",
   "metadata": {},
   "outputs": [],
   "source": [
    "processData.head()"
   ]
  },
  {
   "cell_type": "code",
   "execution_count": null,
   "id": "2db09378",
   "metadata": {},
   "outputs": [],
   "source": [
    "#---------------------------------------------------------\n",
    "# Now lets see the datatype... as we can see all are number\n",
    "# which is quite great\n",
    "#--------------------------------\n",
    "processData.dtypes"
   ]
  },
  {
   "cell_type": "code",
   "execution_count": null,
   "id": "6a1d2361",
   "metadata": {},
   "outputs": [],
   "source": [
    "#-----------------------------------------------------------\n",
    "# Now lets scale our data.\n",
    "#so the columns to be scal are tenure,MonthlyCharges,TotalCharges\n",
    "#as they are nit in range 0-1\n",
    "#We will use min-max or normalization.\n",
    "#-------------------------------------------------"
   ]
  },
  {
   "cell_type": "code",
   "execution_count": null,
   "id": "a1ac3657",
   "metadata": {},
   "outputs": [],
   "source": [
    "cols_to_scale = ['tenure','MonthlyCharges','TotalCharges']\n",
    "scaler = MinMaxScaler()\n",
    "processData[cols_to_scale] = scaler.fit_transform(processData[cols_to_scale])\n",
    "processData[cols_to_scale] = scaler.fit_transform(processData[cols_to_scale])"
   ]
  },
  {
   "cell_type": "code",
   "execution_count": null,
   "id": "798d1b2a",
   "metadata": {},
   "outputs": [],
   "source": [
    "#-------------------------------------------------------------\n",
    "#Now our dataframe is scale and used for prediction\n",
    "#-------------------------------------"
   ]
  },
  {
   "cell_type": "code",
   "execution_count": null,
   "id": "38f1d917",
   "metadata": {},
   "outputs": [],
   "source": [
    "for col in processData:\n",
    "    print(f'{col}:{processData[col].unique()}')"
   ]
  },
  {
   "cell_type": "code",
   "execution_count": null,
   "id": "a54c896f",
   "metadata": {},
   "outputs": [],
   "source": [
    "#------------------ We are done with preprocessing,------------------"
   ]
  },
  {
   "cell_type": "code",
   "execution_count": null,
   "id": "761cad70",
   "metadata": {},
   "outputs": [],
   "source": [
    "#-------Machine Learning Model Evaluations and Predictions-------"
   ]
  },
  {
   "cell_type": "code",
   "execution_count": null,
   "id": "59a533c9",
   "metadata": {},
   "outputs": [],
   "source": [
    "#-------------------------Predicted By ANN--------------------------------------------\n",
    "def GetNeuralNetwork(x_train,y_train,x_test,y_test):\n",
    "    \n",
    "    model = keras.Sequential(\n",
    "        [\n",
    "            keras.layers.Dense(20,input_shape=(26,),activation='relu'),\n",
    "            keras.layers.Dropout(0.3),\n",
    "            keras.layers.Dense(10,activation='relu'),\n",
    "            keras.layers.Dropout(0.3),\n",
    "            keras.layers.Dense(5,activation='relu'),\n",
    "            keras.layers.Dropout(0.3),\n",
    "            keras.layers.Dense(1,activation='sigmoid'),\n",
    "        ]\n",
    "    )\n",
    "\n",
    "    model.compile(optimizer ='adam',\n",
    "                 loss='binary_crossentropy',\n",
    "                 metrics=['accuracy'])\n",
    "    \n",
    "    model.fit(x_train,y_train,epochs=100,batch_size=8)\n",
    "\n",
    "    model.evaluate(x_test,y_test)\n",
    "    y_pred = model.predict(x_test)\n",
    "    y_pred_actual = []\n",
    "    for ele in y_pred:\n",
    "        if ele > 0.5:\n",
    "            y_pred_actual.append(1)\n",
    "        else :\n",
    "            y_pred_actual.append(0)\n",
    "    accuracy_ann=accuracy_score(y_test, y_pred_actual)\n",
    "    precision = precision_score(y_test, y_pred_actual)\n",
    "    recall = recall_score(y_test, y_pred_actual)\n",
    "    f1 = f1_score(y_test, y_pred_actual)\n",
    "    print(\"Neural network accuracy is :\",accuracy_ann)\n",
    "    print(\"Neural network precision is :\",precision)\n",
    "    print(\"Neural network recall is :\",recall)\n",
    "    print(\"Neural network f1 is :\",f1)\n",
    "    print(\"Neural Network Classification Reports is:\\n\",classification_report(y_test,y_pred_actual))\n",
    "    return round(accuracy_ann*100, 3),round(precision*100, 3),round(recall*100, 3),round(f1*100, 3),model,y_pred,y_pred_actual"
   ]
  },
  {
   "cell_type": "code",
   "execution_count": null,
   "id": "c933b137",
   "metadata": {},
   "outputs": [],
   "source": [
    "#-------------------------Predicted By KNN--------------------------------------------\n",
    "def GetKNN(x_train,y_train,x_test,y_test):\n",
    "    \n",
    "    knn_model = KNeighborsClassifier(n_neighbors = 11) \n",
    "    knn_model.fit(x_train,y_train)\n",
    "    predicted_y = knn_model.predict(x_test)\n",
    "    accuracy_knn = knn_model.score(x_test,y_test)\n",
    "    precision = precision_score(y_test, predicted_y)\n",
    "    recall = recall_score(y_test, predicted_y)\n",
    "    f1 = f1_score(y_test, predicted_y)\n",
    "    print(\"KNN accuracy is :\",accuracy_knn)\n",
    "    print(\"KNN precision is :\",precision)\n",
    "    print(\"KNN recall is :\",recall)\n",
    "    print(\"KNN f1 is :\",f1)\n",
    "    print(\"KNN Classification Reports is:\\n\",classification_report(y_test, predicted_y))\n",
    "    return round(accuracy_knn*100, 3),round(precision*100, 3),round(recall*100, 3),round(f1*100, 3),knn_model,predicted_y"
   ]
  },
  {
   "cell_type": "code",
   "execution_count": null,
   "id": "1676fd2d",
   "metadata": {},
   "outputs": [],
   "source": [
    "#-------------------------Predicted By SVM--------------------------------------------\n",
    "def GetSVC(x_train,y_train,x_test,y_test):\n",
    "    svc_model = SVC(random_state = 1,probability=True)\n",
    "    svc_model.fit(x_train,y_train)\n",
    "    predict_y = svc_model.predict(x_test)\n",
    "    accuracy_svc = svc_model.score(x_test,y_test)\n",
    "    precision = precision_score(y_test, predict_y)\n",
    "    recall = recall_score(y_test, predict_y)\n",
    "    f1 = f1_score(y_test, predict_y)\n",
    "    print(\"SVM accuracy is :\",accuracy_svc)\n",
    "    print(\"SVM precision is :\",precision)\n",
    "    print(\"SVM recall is :\",recall)\n",
    "    print(\"SVM f1 is :\",f1)\n",
    "    print(\"SVM Classification Reports is:\\n\",classification_report(y_test, predict_y))\n",
    "    return round(accuracy_svc*100, 3),round(precision*100, 3),round(recall*100, 3),round(f1*100, 3),svc_model,predict_y"
   ]
  },
  {
   "cell_type": "code",
   "execution_count": null,
   "id": "539a2f96",
   "metadata": {},
   "outputs": [],
   "source": [
    "#-------------------------Predicted By Random Forest-----------------------\n",
    "def GetRandomForest(x_train,y_train,x_test,y_test):\n",
    "    \n",
    "    model_rf = RandomForestClassifier(n_estimators=100 , oob_score = True, n_jobs = -1,\n",
    "                                      random_state =50, max_features = \"auto\",\n",
    "                                      max_leaf_nodes = 30)\n",
    "    \n",
    "    model_rf.fit(x_train, y_train)\n",
    "\n",
    "    # Make predictions\n",
    "    prediction_test = model_rf.predict(x_test)\n",
    "    accuracy_randomForest = metrics.accuracy_score(y_test, prediction_test)\n",
    "    precision = precision_score(y_test, prediction_test)\n",
    "    recall = recall_score(y_test, prediction_test)\n",
    "    f1 = f1_score(y_test, prediction_test)\n",
    "    print(\"Random Forest accuracy is :\",accuracy_randomForest)\n",
    "    print(\"Random Forest precision is :\",precision)\n",
    "    print(\"Random Forest recall is :\",recall)\n",
    "    print(\"Random Forest f1 is :\",f1)\n",
    "    print(\"Random Forest Classification Reports is:\\n\",classification_report(y_test, prediction_test))\n",
    "    return round(accuracy_randomForest*100, 3),round(precision*100, 3),round(recall*100, 3),round(f1*100, 3),model_rf ,prediction_test"
   ]
  },
  {
   "cell_type": "code",
   "execution_count": null,
   "id": "ace6d9da",
   "metadata": {},
   "outputs": [],
   "source": [
    "#-----------------------Predicted By Logistic Regression-----------------\n",
    "def GetLogisticRegression(x_train,y_train,x_test,y_test):\n",
    "    lr_model = LogisticRegression()\n",
    "    lr_model.fit(x_train,y_train)\n",
    "    accuracy_lr = lr_model.score(x_test,y_test)\n",
    "    print(\"Logistic Regression accuracy is :\",accuracy_lr)\n",
    "    lr_pred= lr_model.predict(x_test)\n",
    "    precision = precision_score(y_test, lr_pred)\n",
    "    recall = recall_score(y_test, lr_pred)\n",
    "    f1 = f1_score(y_test, lr_pred)\n",
    "    print(\"Logistic Regression precision is :\",precision)\n",
    "    print(\"Logistic Regression recall is :\",recall)\n",
    "    print(\"Logistic Regression f1 is :\",f1)\n",
    "    print(\"Logistic Regression Classification Reports is:\\n\",classification_report(y_test, lr_pred))\n",
    "    return round(accuracy_lr*100, 3),round(precision*100, 3),round(recall*100, 3),round(f1*100, 3),lr_model ,lr_pred"
   ]
  },
  {
   "cell_type": "code",
   "execution_count": null,
   "id": "d65be58c",
   "metadata": {},
   "outputs": [],
   "source": [
    "#-----------------------Predicted By Decision Tree-----------------\n",
    "def GetDecisionTree(x_train,y_train,x_test,y_test):\n",
    "    dt_model = DecisionTreeClassifier(max_depth=4)\n",
    "    dt_model.fit(x_train,y_train)\n",
    "    predictdt_y = dt_model.predict(x_test)\n",
    "    accuracy_dt = dt_model.score(x_test,y_test)\n",
    "    precision = precision_score(y_test, predictdt_y)\n",
    "    recall = recall_score(y_test, predictdt_y)\n",
    "    f1 = f1_score(y_test, predictdt_y)\n",
    "    print(\"Decision Tree accuracy is :\",accuracy_dt)\n",
    "    print(\"Decision Tree precision is :\",precision)\n",
    "    print(\"Decision Tree recall is :\",recall)\n",
    "    print(\"Decision Tree f1 is :\",f1)\n",
    "    print(\"Decision Tree Classification Reports is:\\n\",classification_report(y_test, predictdt_y))\n",
    "    return round(accuracy_dt*100, 3),round(precision*100, 3),round(recall*100, 3),round(f1*100, 3),dt_model ,predictdt_y"
   ]
  },
  {
   "cell_type": "code",
   "execution_count": null,
   "id": "22a34757",
   "metadata": {},
   "outputs": [],
   "source": [
    "def GetNeuralNetworkModel():\n",
    "    \n",
    "    model =keras.Sequential(\n",
    "        [\n",
    "            keras.layers.Dense(20,input_shape=(26,),activation='relu'),\n",
    "            keras.layers.Dropout(0.3),\n",
    "            keras.layers.Dense(10,activation='relu'),\n",
    "            keras.layers.Dropout(0.3),\n",
    "            keras.layers.Dense(5,activation='relu'),\n",
    "            keras.layers.Dropout(0.3),\n",
    "            keras.layers.Dense(1,activation='sigmoid'),\n",
    "        ]\n",
    "    )\n",
    "    # Compile model\n",
    "    model.compile(loss='binary_crossentropy', optimizer='adam', metrics=['accuracy'])\n",
    "    return model"
   ]
  },
  {
   "cell_type": "code",
   "execution_count": null,
   "id": "9587e6df",
   "metadata": {},
   "outputs": [],
   "source": [
    "#-----------------------Predicted By Voting with 'NeuralNetwork' 'LogisticRegression' 'XGBoost' -----------------\n",
    "def GetVoting_NeuralNetwork_Boosting(x_train,y_train,x_test,y_test):\n",
    "  \n",
    "    neuralNetworkClassifier = KerasClassifier(build_fn=GetNeuralNetworkModel)\n",
    "    neuralNetworkClassifier._estimator_type = \"classifier\"\n",
    "    neuralNetworkClassifier_pipe = Pipeline([('scaler', scaler), ('cnn', neuralNetworkClassifier)])\n",
    "    \n",
    "    clf1 = neuralNetworkClassifier\n",
    "    clf2 = AdaBoostClassifier()\n",
    "    clf3 = XGBClassifier(n_estimators=800, n_jobs=-1)\n",
    "    eclf1 = VotingClassifier(estimators=[('nn', clf1), ('ada', clf2), ('xgb', clf3)], voting='soft')\n",
    "    eclf1.fit(x_train, y_train)\n",
    "    predictions = eclf1.predict(x_test)\n",
    "    accuracy_voting = accuracy_score(y_test, predictions)\n",
    "    precision = precision_score(y_test, predictions)\n",
    "    recall = recall_score(y_test, predictions)\n",
    "    f1 = f1_score(y_test, predictions)\n",
    "    print(\"NeuralNetwork , AdaBoost , XGBoost  Voting Classifier accuracy is :\",accuracy_voting)\n",
    "    print(\"NeuralNetwork , AdaBoost , XGBoost  Voting Classifier precision is :\",precision)\n",
    "    print(\"NeuralNetwork , AdaBoost , XGBoost  Voting Classifier recall is :\",recall)\n",
    "    print(\"NeuralNetwork , AdaBoost , XGBoost  Voting Classifier f1 is :\",f1)\n",
    "    print(\"NeuralNetwork,AdaBoost,XGBoost Voting Classification Reports is:\\n\",classification_report(y_test, predictions))\n",
    "    return round(accuracy_voting*100, 3),round(precision*100, 3),round(recall*100, 3),round(f1*100, 3),eclf1,predictions"
   ]
  },
  {
   "cell_type": "code",
   "execution_count": null,
   "id": "0123cd43",
   "metadata": {},
   "outputs": [],
   "source": [
    "#-----------------------Predicted By 'KNN' Boosting -----------------\n",
    "def GetVoting_KNN_Boosting(x_train,y_train,x_test,y_test):    \n",
    "    clf1 =KNeighborsClassifier(n_neighbors = 11) \n",
    "    clf2 = AdaBoostClassifier()\n",
    "    clf3 = XGBClassifier(n_estimators=800, n_jobs=-1)\n",
    "    eclf1 = VotingClassifier(estimators=[('knn', clf1), ('ada', clf2), ('xgb', clf3)], voting='soft')\n",
    "    eclf1.fit(x_train, y_train)\n",
    "    predictions = eclf1.predict(x_test)\n",
    "    accuracy_voting = accuracy_score(y_test, predictions)\n",
    "    precision = precision_score(y_test, predictions)\n",
    "    recall = recall_score(y_test, predictions)\n",
    "    f1 = f1_score(y_test, predictions)\n",
    "    print(\"KNN , AdaBoost , XGBoost  Voting Classifier accuracy is :\",accuracy_voting)\n",
    "    print(\"KNN , AdaBoost , XGBoost  Voting Classifier precision is :\",precision)\n",
    "    print(\"KNN , AdaBoost , XGBoost  Voting Classifier recall is :\",recall)\n",
    "    print(\"KNN , AdaBoost , XGBoost  Voting Classifier f1 is :\",f1)\n",
    "    print(\"KNN,AdaBoost,XGBoost Voting Classification Reports is:\\n\",classification_report(y_test, predictions))\n",
    "    return round(accuracy_voting*100, 3),round(precision*100, 3),round(recall*100, 3),round(f1*100, 3),eclf1,predictions"
   ]
  },
  {
   "cell_type": "code",
   "execution_count": null,
   "id": "273298ca",
   "metadata": {},
   "outputs": [],
   "source": [
    "#-----------------------Predicted By 'SVM' Boosting -----------------\n",
    "def GetVoting_SVM_Boosting(x_train,y_train,x_test,y_test):    \n",
    "    clf1 =SVC(random_state = 1,probability=True)\n",
    "    clf2 = AdaBoostClassifier()\n",
    "    clf3 = XGBClassifier(n_estimators=800, n_jobs=-1)\n",
    "    eclf1 = VotingClassifier(estimators=[('svm', clf1), ('ada', clf2), ('xgb', clf3)], voting='soft')\n",
    "    eclf1.fit(x_train, y_train)\n",
    "    predictions = eclf1.predict(x_test)\n",
    "    accuracy_voting = accuracy_score(y_test, predictions)\n",
    "    precision = precision_score(y_test, predictions)\n",
    "    recall = recall_score(y_test, predictions)\n",
    "    f1 = f1_score(y_test, predictions)\n",
    "    print(\"SVM , AdaBoost , XGBoost  Voting Classifier accuracy is :\",accuracy_voting)\n",
    "    print(\"SVM , AdaBoost , XGBoost  Voting Classifier precision is :\",precision)\n",
    "    print(\"SVM , AdaBoost , XGBoost  Voting Classifier recall is :\",recall)\n",
    "    print(\"SVM , AdaBoost , XGBoost  Voting Classifier f1 is :\",f1)\n",
    "    print(\"SVM,AdaBoost,XGBoost Voting Classification Reports is:\\n\",classification_report(y_test, predictions))\n",
    "    return round(accuracy_voting*100, 3),round(precision*100, 3),round(recall*100, 3),round(f1*100, 3),eclf1,predictions"
   ]
  },
  {
   "cell_type": "code",
   "execution_count": null,
   "id": "54926ed5",
   "metadata": {},
   "outputs": [],
   "source": [
    "#-----------------------Predicted By 'Random Forest' Boosting -----------------\n",
    "def GetVoting_RandomForest_Boosting(x_train,y_train,x_test,y_test):\n",
    "    clf1 =RandomForestClassifier(n_estimators=500 , oob_score = True, n_jobs = -1,\n",
    "                                  random_state =50, max_features = \"auto\",\n",
    "                                  max_leaf_nodes = 30)\n",
    "    clf2 = AdaBoostClassifier()\n",
    "    clf3 = XGBClassifier(n_estimators=800, n_jobs=-1)\n",
    "    eclf1 = VotingClassifier(estimators=[('rf', clf1), ('ada', clf2), ('xgb', clf3)], voting='soft')\n",
    "    eclf1.fit(x_train, y_train)\n",
    "    predictions = eclf1.predict(x_test)\n",
    "    accuracy_voting = accuracy_score(y_test, predictions)\n",
    "    precision = precision_score(y_test, predictions)\n",
    "    recall = recall_score(y_test, predictions)\n",
    "    f1 = f1_score(y_test, predictions)\n",
    "    print(\"Random Forest , AdaBoost , XGBoost  Voting Classifier accuracy is :\",accuracy_voting)\n",
    "    print(\"Random Forest , AdaBoost , XGBoost  Voting Classifier precision is :\",precision)\n",
    "    print(\"Random Forest , AdaBoost , XGBoost  Voting Classifier recall is :\",recall)\n",
    "    print(\"Random Forest , AdaBoost , XGBoost  Voting Classifier f1 is :\",f1)\n",
    "    print(\"Random Forest,AdaBoost,XGBoost Voting Classification Reports is:\\n\",classification_report(y_test, predictions))\n",
    "    return round(accuracy_voting*100, 3),round(precision*100, 3),round(recall*100, 3),round(f1*100, 3),eclf1,predictions"
   ]
  },
  {
   "cell_type": "code",
   "execution_count": null,
   "id": "d1f73eaa",
   "metadata": {},
   "outputs": [],
   "source": [
    "#-----------------------Predicted By 'LogisticRegression' Boosting -----------------\n",
    "def GetVoting_LogisticRegression_Boosting(x_train,y_train,x_test,y_test):        \n",
    "    clf1 = LogisticRegression()\n",
    "    clf2 = AdaBoostClassifier()\n",
    "    clf3 = XGBClassifier(n_estimators=800, n_jobs=-1)\n",
    "    eclf1 = VotingClassifier(estimators=[('lr', clf1), ('ada', clf2), ('xgb', clf3)], voting='soft')\n",
    "    eclf1.fit(x_train, y_train)\n",
    "    predictions = eclf1.predict(x_test)\n",
    "    accuracy_voting = accuracy_score(y_test, predictions)\n",
    "    precision = precision_score(y_test, predictions)\n",
    "    recall = recall_score(y_test, predictions)\n",
    "    f1 = f1_score(y_test, predictions)\n",
    "    print(\"LogisticRegression , AdaBoost , XGBoost  Voting Classifier accuracy is :\",accuracy_voting)\n",
    "    print(\"LogisticRegression , AdaBoost , XGBoost  Voting Classifier precision is :\",precision)\n",
    "    print(\"LogisticRegression , AdaBoost , XGBoost  Voting Classifier recall is :\",recall)\n",
    "    print(\"LogisticRegression , AdaBoost , XGBoost  Voting Classifier f1 is :\",f1)\n",
    "    print(\"LogisticRegression,AdaBoost,XGBoost Voting Classification Reports is:\\n\",classification_report(y_test, predictions))\n",
    "    return round(accuracy_voting*100, 3),round(precision*100, 3),round(recall*100, 3),round(f1*100, 3),eclf1 ,predictions"
   ]
  },
  {
   "cell_type": "code",
   "execution_count": null,
   "id": "3398ddc9",
   "metadata": {},
   "outputs": [],
   "source": [
    "#-----------------------Predicted By 'DecisionTree' Boosting -----------------\n",
    "def GetVoting_DecisionTree_Boosting(x_train,y_train,x_test,y_test):    \n",
    "    clf1 =DecisionTreeClassifier()\n",
    "    clf2 = AdaBoostClassifier()\n",
    "    clf3 = XGBClassifier(n_estimators=800, n_jobs=-1)\n",
    "    eclf1 = VotingClassifier(estimators=[('dt', clf1), ('ada', clf2), ('xgb', clf3)], voting='soft')\n",
    "    eclf1.fit(x_train, y_train)\n",
    "    predictions = eclf1.predict(x_test)\n",
    "    accuracy_voting = accuracy_score(y_test, predictions)\n",
    "    precision = precision_score(y_test, predictions)\n",
    "    recall = recall_score(y_test, predictions)\n",
    "    f1 = f1_score(y_test, predictions)\n",
    "    print(\"DecisionTree , AdaBoost , XGBoost  Voting Classifier accuracy is :\",accuracy_voting)\n",
    "    print(\"DecisionTree , AdaBoost , XGBoost  Voting Classifier precision is :\",precision)\n",
    "    print(\"DecisionTree , AdaBoost , XGBoost  Voting Classifier recall is :\",recall)\n",
    "    print(\"DecisionTree , AdaBoost , XGBoost  Voting Classifier f1 is :\",f1)\n",
    "    print(\"DecisionTree,AdaBoost,XGBoost Voting Classification Reports is:\\n\",classification_report(y_test, predictions))\n",
    "    return round(accuracy_voting*100, 3),round(precision*100, 3),round(recall*100, 3),round(f1*100, 3),eclf1,predictions"
   ]
  },
  {
   "cell_type": "code",
   "execution_count": null,
   "id": "93f39935",
   "metadata": {},
   "outputs": [],
   "source": [
    "#--------------------Create CM\n",
    "def GetConfusionMatrix(y_test,y_pred_actual,title):\n",
    "    cm = confusion_matrix(y_test, y_pred_actual)\n",
    "    plt.figure(figsize=(9,7))\n",
    "    ax = plt.subplot()\n",
    "    sns.set(font_scale=2.0) # Adjust to fit\n",
    "    sns.heatmap(cm, annot=True, ax=ax, cmap=\"Blues\", fmt=\"g\");  \n",
    "    # Labels, title and ticks\n",
    "    label_font = {'size':'28'}  # Adjust to fit\n",
    "    ax.set_xlabel('Predicted labels', fontdict=label_font);\n",
    "    ax.set_ylabel('Observed labels', fontdict=label_font);\n",
    "    title_font = {'size':'24'}  # Adjust to fit\n",
    "    ax.set_title(title, fontdict=title_font);\n",
    "    ax.tick_params(axis='both', which='major', labelsize=20)  # Adjust to fit\n",
    "    ax.xaxis.set_ticklabels(['False', 'True']);\n",
    "    ax.yaxis.set_ticklabels(['False', 'True']);\n",
    "    plt.show()"
   ]
  },
  {
   "cell_type": "code",
   "execution_count": null,
   "id": "9b106515",
   "metadata": {},
   "outputs": [],
   "source": [
    "#-----------------Create ROC\n",
    "def GetROC(model,x_test,y_test,title):\n",
    "     #--------------ROC Curve------------------------\n",
    "    # Labels, title and ticks\n",
    "    fig=plt.figure(facecolor=(1, 1, 1),figsize=(9,7))\n",
    "    label_font = {'size':'28'}  # Adjust to fit\n",
    "    title_font = {'size':'24'}  # Adjust to fit\n",
    "    y_pred_prob = model.predict_proba(x_test)[:,1]\n",
    "    fpr_rf, tpr_rf, thresholds = roc_curve(y_test, y_pred_prob)\n",
    "    aucScore = roc_auc_score(y_test, y_pred_prob)\n",
    "    aucLabel=\"AUC=\"+format(round(aucScore*100, 2), '.2f')\n",
    "    print(\"AUC Score is:\" ,aucScore)   \n",
    "    plt.plot([0, 1], [0, 1], 'k--' )\n",
    "    plt.plot(fpr_rf, tpr_rf,'b', label=aucLabel,marker='.',color='r')\n",
    "    plt.xlabel('False Positive Rate', fontdict=label_font)\n",
    "    plt.ylabel('True Positive Rate', fontdict=label_font)\n",
    "    plt.title(title,fontdict=title_font)\n",
    "    plt.rcParams['axes.facecolor'] = 'none'\n",
    "    plt.savefig('ROC',dpi=300)\n",
    "    plt.legend()\n",
    "    ax = fig.add_subplot(111)\n",
    "    ax.spines['bottom'].set_color('black')\n",
    "    ax.spines['top'].set_color('black')\n",
    "    ax.spines['right'].set_color('black')\n",
    "    ax.spines['left'].set_color('black')\n",
    "    plt.show();\n",
    "    return aucScore,fpr_rf,tpr_rf\n",
    "    "
   ]
  },
  {
   "cell_type": "code",
   "execution_count": null,
   "id": "2304d919",
   "metadata": {},
   "outputs": [],
   "source": [
    "def GetNNROC(model,x_test,y_test,y_pred_prob,title):\n",
    "    fig=plt.figure(facecolor=(1, 1, 1),figsize=(9,7))\n",
    "    label_font = {'size':'28'}  # Adjust to fit\n",
    "    title_font = {'size':'24'}  # Adjust to fit\n",
    "    fpr_rf, tpr_rf, thresholds = roc_curve(y_test, y_pred_prob)\n",
    "    aucScore = roc_auc_score(y_test, y_pred_prob)\n",
    "    aucLabel=\"AUC=\"+format(round(aucScore*100, 2), '.2f')\n",
    "    print(\"AUC Score is:\" ,aucScore)   \n",
    "    plt.plot([0, 1], [0, 1], 'k--' )\n",
    "    plt.plot(fpr_rf, tpr_rf,'b', label=aucLabel,marker='.',color='r')\n",
    "    plt.xlabel('False Positive Rate', fontdict=label_font)\n",
    "    plt.ylabel('True Positive Rate', fontdict=label_font)\n",
    "    plt.title(title,fontdict=title_font)\n",
    "    plt.rcParams['axes.facecolor'] = 'none'\n",
    "    plt.savefig('ROC',dpi=300)\n",
    "    plt.legend()\n",
    "    ax = fig.add_subplot(111)\n",
    "    ax.spines['bottom'].set_color('black')\n",
    "    ax.spines['top'].set_color('black')\n",
    "    ax.spines['right'].set_color('black')\n",
    "    ax.spines['left'].set_color('black')\n",
    "    plt.show();\n",
    "    return aucScore,fpr_rf,tpr_rf"
   ]
  },
  {
   "cell_type": "code",
   "execution_count": null,
   "id": "fdfe320d",
   "metadata": {},
   "outputs": [],
   "source": [
    "nonChurnData = processData.drop('Churn',axis=1)\n",
    "churnData = processData['Churn']\n",
    "\n",
    "x_train,x_test,y_train,y_test = train_test_split(nonChurnData,churnData,test_size=0.2,random_state=15,stratify=churnData)"
   ]
  },
  {
   "cell_type": "code",
   "execution_count": null,
   "id": "27529758",
   "metadata": {},
   "outputs": [],
   "source": [
    "y_train.value_counts()"
   ]
  },
  {
   "cell_type": "code",
   "execution_count": null,
   "id": "2ded2034",
   "metadata": {},
   "outputs": [],
   "source": [
    "y_test.value_counts()"
   ]
  },
  {
   "cell_type": "code",
   "execution_count": null,
   "id": "82f8bf5d",
   "metadata": {},
   "outputs": [],
   "source": [
    "#---------------------------------------------------------\n",
    "#As We can see our dataset is imbalanced. Now see the difference between training of \n",
    "#unbalanced dataset vs balanced dataset\n",
    "#------------------------------------------"
   ]
  },
  {
   "cell_type": "code",
   "execution_count": null,
   "id": "11fa0f0e",
   "metadata": {},
   "outputs": [],
   "source": [
    "#------------------------------Neural Network---------------------------------------\n",
    "nn_accuracy,nn_precision,nn_recall,nn_f1,nn_model,nn_yPrediction,nn_yPredictionActual = GetNeuralNetwork(x_train,y_train,x_test,y_test)"
   ]
  },
  {
   "cell_type": "code",
   "execution_count": null,
   "id": "16a94543",
   "metadata": {},
   "outputs": [],
   "source": [
    "#--------------------------KNN------------------------------------"
   ]
  },
  {
   "cell_type": "code",
   "execution_count": null,
   "id": "a702f90d",
   "metadata": {},
   "outputs": [],
   "source": [
    "knn_accuracy,knn_precision,knn_recall,knn_f1,knn_model,knn_yPrediction=GetKNN(x_train,y_train,x_test,y_test)"
   ]
  },
  {
   "cell_type": "code",
   "execution_count": null,
   "id": "7d2b7434",
   "metadata": {},
   "outputs": [],
   "source": [
    "#---------------------------SVM--------------------------------------"
   ]
  },
  {
   "cell_type": "code",
   "execution_count": null,
   "id": "1acacc06",
   "metadata": {},
   "outputs": [],
   "source": [
    "svm_accuracy,svm_precision,svm_recall,svm_f1,svm_model,svm_yPrediction = GetSVC(x_train,y_train,x_test,y_test)"
   ]
  },
  {
   "cell_type": "code",
   "execution_count": null,
   "id": "e3665109",
   "metadata": {},
   "outputs": [],
   "source": [
    "#----------------------------Random Forest---------------------------"
   ]
  },
  {
   "cell_type": "code",
   "execution_count": null,
   "id": "61733b63",
   "metadata": {},
   "outputs": [],
   "source": [
    "rf_accuracy,rf_precision,rf_recall,rf_f1,rf_model,rf_yPrediction = GetRandomForest(x_train,y_train,x_test,y_test)"
   ]
  },
  {
   "cell_type": "code",
   "execution_count": null,
   "id": "bb157a5a",
   "metadata": {},
   "outputs": [],
   "source": [
    "#------------------------Logistic Regression------------------------"
   ]
  },
  {
   "cell_type": "code",
   "execution_count": null,
   "id": "2f16055b",
   "metadata": {},
   "outputs": [],
   "source": [
    "lr_accuracy,lr_precision,lr_recall,lr_f1,lr_model,lr_yPrediction =GetLogisticRegression(x_train,y_train,x_test,y_test)"
   ]
  },
  {
   "cell_type": "code",
   "execution_count": null,
   "id": "b077be99",
   "metadata": {},
   "outputs": [],
   "source": [
    "#-------------------------Decision Tree Classifier-------------------"
   ]
  },
  {
   "cell_type": "code",
   "execution_count": null,
   "id": "242194f7",
   "metadata": {},
   "outputs": [],
   "source": [
    "dt_accuracy,dt_precision,dt_recall,dt_f1,dt_model,dt_yPrediction =GetDecisionTree(x_train,y_train,x_test,y_test)"
   ]
  },
  {
   "cell_type": "code",
   "execution_count": null,
   "id": "5eeadbb6",
   "metadata": {},
   "outputs": [],
   "source": [
    "fig=plt.figure(facecolor=(1, 1, 1),figsize=(10,6))\n",
    "models_voting_Accuracy = pd.DataFrame({\n",
    "    'Classifiers':['Neural network ','KNN', 'SVM', 'Random forest','Logistic regression','Decision tree'],\n",
    "    'Accuracy' :[nn_accuracy,knn_accuracy,svm_accuracy,rf_accuracy,lr_accuracy,dt_accuracy]\n",
    "})\n",
    "models_voting_Accuracy\n",
    "sns.barplot(x='Accuracy', y='Classifiers',data=models_voting_Accuracy)\n",
    "ax = fig.add_subplot(111)\n",
    "ax.spines['bottom'].set_color('black')\n",
    "ax.spines['top'].set_color('black')\n",
    "ax.spines['right'].set_color('black')\n",
    "ax.spines['left'].set_color('black')\n",
    "models_voting_Accuracy.sort_values(by='Accuracy', ascending=False)"
   ]
  },
  {
   "cell_type": "code",
   "execution_count": null,
   "id": "e5a8cd1c",
   "metadata": {},
   "outputs": [],
   "source": [
    "#-------------------lets Balance our dataset and see the difference----------"
   ]
  },
  {
   "cell_type": "code",
   "execution_count": null,
   "id": "d9eceefd",
   "metadata": {},
   "outputs": [],
   "source": [
    "smote = SMOTE(sampling_strategy ='minority')\n",
    "x_sm, y_sm = smote.fit_resample(nonChurnData,churnData)"
   ]
  },
  {
   "cell_type": "code",
   "execution_count": null,
   "id": "e3eee46e",
   "metadata": {},
   "outputs": [],
   "source": [
    "#Now our dataset is balanced.\n",
    "y_sm.value_counts() "
   ]
  },
  {
   "cell_type": "code",
   "execution_count": null,
   "id": "0b35f035",
   "metadata": {},
   "outputs": [],
   "source": [
    "x_train_balance,x_test_balance,y_train_balance,y_test_balance = train_test_split(x_sm,y_sm,test_size=0.2,random_state=15,stratify=y_sm)"
   ]
  },
  {
   "cell_type": "code",
   "execution_count": null,
   "id": "9c71e04a",
   "metadata": {},
   "outputs": [],
   "source": [
    "#balanced train dataset\n",
    "y_train_balance.value_counts() "
   ]
  },
  {
   "cell_type": "code",
   "execution_count": null,
   "id": "703cf835",
   "metadata": {},
   "outputs": [],
   "source": [
    "#balanced test dataset\n",
    "y_test_balance.value_counts()"
   ]
  },
  {
   "cell_type": "code",
   "execution_count": null,
   "id": "93216dd5",
   "metadata": {},
   "outputs": [],
   "source": [
    "#---------Balance ANN--------------------------------"
   ]
  },
  {
   "cell_type": "code",
   "execution_count": null,
   "id": "d37a0d67",
   "metadata": {},
   "outputs": [],
   "source": [
    "nn_balance_accuracy,nn_balance_precision,nn_balance_recall,nn_balance_f1,nn_balance_model,nn_balance_yPrediction,nn_balance_yPredictionActual = GetNeuralNetwork(x_train_balance,y_train_balance,x_test_balance,y_test_balance)"
   ]
  },
  {
   "cell_type": "code",
   "execution_count": null,
   "id": "902c84f1",
   "metadata": {},
   "outputs": [],
   "source": [
    "knn_balance_accuracy,knn_balance_precision,knn_balance_recall,knn_balance_f1,knn_balance_model,knn_balance_yPrediction =GetKNN(x_train_balance,y_train_balance,x_test_balance,y_test_balance)"
   ]
  },
  {
   "cell_type": "code",
   "execution_count": null,
   "id": "754625fb",
   "metadata": {},
   "outputs": [],
   "source": [
    "svm_balance_accuracy,svm_balance_precision,svm_balance_recall,svm_balance_f1,svm_balance_model,svm_balance_yPrediction= GetSVC(x_train_balance,y_train_balance,x_test_balance,y_test_balance)"
   ]
  },
  {
   "cell_type": "code",
   "execution_count": null,
   "id": "27139116",
   "metadata": {},
   "outputs": [],
   "source": [
    "rf_balance_accuracy,rf_balance_precision,rf_balance_recall,rf_balance_f1,rf_balance_model,rf_balance_yPrediction = GetRandomForest(x_train_balance,y_train_balance,x_test_balance,y_test_balance)"
   ]
  },
  {
   "cell_type": "code",
   "execution_count": null,
   "id": "dc0f04b1",
   "metadata": {},
   "outputs": [],
   "source": [
    "lr_balance_accuracy,lr_balance_precision,lr_balance_recall,lr_balance_f1,lr_balance_model,lr_balance_yPrediction=GetLogisticRegression(x_train_balance,y_train_balance,x_test_balance,y_test_balance)"
   ]
  },
  {
   "cell_type": "code",
   "execution_count": null,
   "id": "970f6f2d",
   "metadata": {},
   "outputs": [],
   "source": [
    "dt_balance_accuracy,dt_balance_precision,dt_balance_recall,dt_balance_f1,dt_balance_model,dt_balance_yPrediction =GetDecisionTree(x_train_balance,y_train_balance,x_test_balance,y_test_balance)"
   ]
  },
  {
   "cell_type": "code",
   "execution_count": null,
   "id": "6e18ff1c",
   "metadata": {
    "scrolled": false
   },
   "outputs": [],
   "source": [
    "fig=plt.figure(facecolor=(1, 1, 1),figsize=(10,6))\n",
    "models_voting_Accuracy_balance = pd.DataFrame({\n",
    "    'Classifiers':['Neural network ','KNN', 'SVM', 'Random forest','Logistic regression','Decision tree'],\n",
    "    'Accuracy' :[nn_balance_accuracy,knn_balance_accuracy , svm_balance_accuracy , rf_balance_accuracy,lr_balance_accuracy,dt_balance_accuracy]\n",
    "})\n",
    "models_voting_Accuracy_balance\n",
    "sns.barplot(x='Accuracy', y='Classifiers', data=models_voting_Accuracy_balance)\n",
    "ax = fig.add_subplot(111)\n",
    "ax.spines['bottom'].set_color('black')\n",
    "ax.spines['top'].set_color('black')\n",
    "ax.spines['right'].set_color('black')\n",
    "ax.spines['left'].set_color('black')\n",
    "models_voting_Accuracy_balance.sort_values(by='Accuracy', ascending=False)"
   ]
  },
  {
   "cell_type": "code",
   "execution_count": null,
   "id": "a2e2f2b0",
   "metadata": {
    "scrolled": false
   },
   "outputs": [],
   "source": [
    "voting_nn_accuracy,voting_nn_precision,voting_nn_recall,voting_nn_f1,voting_nn_model,voting_nn_yPrediction =GetVoting_NeuralNetwork_Boosting(x_train_balance,y_train_balance,x_test_balance,y_test_balance)"
   ]
  },
  {
   "cell_type": "code",
   "execution_count": null,
   "id": "ba914410",
   "metadata": {},
   "outputs": [],
   "source": [
    "voting_knn_accuracy,voting_knn_precision,voting_knn_recall,voting_knn_f1,voting_knn_model,voting_knn_yPrediction =GetVoting_KNN_Boosting(x_train_balance,y_train_balance,x_test_balance,y_test_balance)"
   ]
  },
  {
   "cell_type": "code",
   "execution_count": null,
   "id": "0c279041",
   "metadata": {},
   "outputs": [],
   "source": [
    "voting_svm_accuracy,voting_svm_precision,voting_svm_recall,voting_svm_f1,voting_svm_model,voting_svm_yPrediction =GetVoting_SVM_Boosting(x_train_balance,y_train_balance,x_test_balance,y_test_balance)"
   ]
  },
  {
   "cell_type": "code",
   "execution_count": null,
   "id": "18115de4",
   "metadata": {},
   "outputs": [],
   "source": [
    "voting_rf_accuracy,voting_rf_precision,voting_rf_recall,voting_rf_f1,voting_rf_model,voting_rf_yPrediction =GetVoting_RandomForest_Boosting(x_train_balance,y_train_balance,x_test_balance,y_test_balance)"
   ]
  },
  {
   "cell_type": "code",
   "execution_count": null,
   "id": "a4a01284",
   "metadata": {},
   "outputs": [],
   "source": [
    "voting_lr_accuracy,voting_lr_precision,voting_lr_recall,voting_lr_f1,voting_lr_model,voting_lr_yPrediction =GetVoting_LogisticRegression_Boosting(x_train_balance,y_train_balance,x_test_balance,y_test_balance)"
   ]
  },
  {
   "cell_type": "code",
   "execution_count": null,
   "id": "7f6aea26",
   "metadata": {},
   "outputs": [],
   "source": [
    "voting_dt_accuracy,voting_dt_precision,voting_dt_recall,voting_dt_f1,voting_dt_model,voting_dt_yPrediction=GetVoting_DecisionTree_Boosting(x_train_balance,y_train_balance,x_test_balance,y_test_balance)"
   ]
  },
  {
   "cell_type": "code",
   "execution_count": null,
   "id": "d4690bd1",
   "metadata": {},
   "outputs": [],
   "source": [
    "fig=plt.figure(facecolor=(1, 1, 1),figsize=(10,6))\n",
    "models_voting_Accuracy_voting_balance = pd.DataFrame({\n",
    "    'Ensemble Learning':['Neural network-XGBoost-AdaBoost','KNN-XGBoost-AdaBoost', 'SVM-XGBoost-AdaBoost', 'Random forest-XGBoost-AdaBoost','Logistic regression-XGBoost-AdaBoost','Decision tree-XGBoost-AdaBoost'],\n",
    "    'Accuracy' :[voting_nn_accuracy,voting_knn_accuracy , voting_svm_accuracy , voting_rf_accuracy,voting_lr_accuracy,voting_dt_accuracy]\n",
    "})\n",
    "models_voting_Accuracy_voting_balance\n",
    "sns.barplot(x='Accuracy', y='Ensemble Learning', data=models_voting_Accuracy_voting_balance)\n",
    "ax = fig.add_subplot(111)\n",
    "ax.spines['bottom'].set_color('black')\n",
    "ax.spines['top'].set_color('black')\n",
    "ax.spines['right'].set_color('black')\n",
    "ax.spines['left'].set_color('black')\n",
    "models_voting_Accuracy_voting_balance.sort_values(by='Accuracy', ascending=False)"
   ]
  },
  {
   "cell_type": "code",
   "execution_count": null,
   "id": "fbf131bf",
   "metadata": {},
   "outputs": [],
   "source": [
    "accuracy_Boosted_balance_nn = []\n",
    "accuracy_Boosted_balance_knn = []\n",
    "accuracy_Boosted_balance_svm = []\n",
    "accuracy_Boosted_balance_rf = []\n",
    "accuracy_Boosted_balance_lr = []\n",
    "accuracy_Boosted_balance_dt = []\n",
    "for x in range(10):\n",
    "    #---------Neural Network\n",
    "    voting_nn_accuracy_mean,voting_nn_precision_mean,voting_nn_recall_mean,voting_nn_f1_mean,voting_nn_model_mean,voting_nn_yPrediction_mean=GetVoting_NeuralNetwork_Boosting(x_train_balance,y_train_balance,x_test_balance,y_test_balance)\n",
    "    accuracy_Boosted_balance_nn.append(voting_nn_accuracy_mean)\n",
    "    #-------- KNN\n",
    "    voting_knn_accuracy_mean,voting_knn_precision_mean,voting_knn_recall_mean,voting_knn_f1_mean,voting_knn_model_mean,voting_knn_yPrediction_mean=GetVoting_KNN_Boosting(x_train_balance,y_train_balance,x_test_balance,y_test_balance)\n",
    "    accuracy_Boosted_balance_knn.append(voting_knn_accuracy_mean)\n",
    "    #-------- Svm\n",
    "    voting_svm_accuracy_mean,voting_svm_precision_mean,voting_svm_recall_mean,voting_svm_f1_mean,voting_svm_model_mean,voting_svm_yPrediction_mean=GetVoting_SVM_Boosting(x_train_balance,y_train_balance,x_test_balance,y_test_balance)\n",
    "    accuracy_Boosted_balance_svm.append(voting_svm_accuracy_mean)\n",
    "    #-------- Random Forest\n",
    "    voting_rf_accuracy_mean,voting_rf_precision_mean,voting_rf_recall_mean,voting_rf_f1_mean,voting_rf_model_mean,voting_rf_yPrediction_mean=GetVoting_RandomForest_Boosting(x_train_balance,y_train_balance,x_test_balance,y_test_balance)\n",
    "    accuracy_Boosted_balance_rf.append(voting_rf_accuracy_mean)\n",
    "    #-------- Logistic Regression\n",
    "    voting_lr_accuracy_mean,voting_lr_precision_mean,voting_lr_recall_mean,voting_lr_f1_mean,voting_lr_model_mean,voting_lr_yPrediction_mean=GetVoting_LogisticRegression_Boosting(x_train_balance,y_train_balance,x_test_balance,y_test_balance)\n",
    "    accuracy_Boosted_balance_lr.append(voting_lr_accuracy_mean)\n",
    "    #-------- Decision Tree\n",
    "    voting_dt_accuracy_mean,voting_dt_precision_mean,voting_dt_recall_mean,voting_dt_f1_mean,voting_dt_model_mean,voting_dt_yPrediction_mean=GetVoting_DecisionTree_Boosting(x_train_balance,y_train_balance,x_test_balance,y_test_balance)\n",
    "    accuracy_Boosted_balance_dt.append(voting_dt_accuracy_mean)\n",
    "    \n",
    "mean_accuracy_Boosted_nn=mean(accuracy_Boosted_balance_nn)  \n",
    "mean_accuracy_Boosted_nn=mean(accuracy_Boosted_balance_nn)    \n",
    "mean_accuracy_Boosted_knn=mean(accuracy_Boosted_balance_knn)\n",
    "mean_accuracy_Boosted_svm=mean(accuracy_Boosted_balance_svm)\n",
    "mean_accuracy_Boosted_rf=mean(accuracy_Boosted_balance_rf)\n",
    "mean_accuracy_Boosted_lr=mean(accuracy_Boosted_balance_lr)\n",
    "mean_accuracy_Boosted_dt=mean(accuracy_Boosted_balance_dt)"
   ]
  },
  {
   "cell_type": "code",
   "execution_count": null,
   "id": "774a33ef",
   "metadata": {},
   "outputs": [],
   "source": [
    "fig=plt.figure(facecolor=(1, 1, 1),figsize=(10,6))\n",
    "models_voting_Accuracy = pd.DataFrame({\n",
    "    'Ensamble Learning Average':['Neural network-XGBoost-AdaBoost','KNN-XGBoost-AdaBoost', 'SVM-XGBoost-AdaBoost', 'Random forest-XGBoost-AdaBoost','Logistic regression-XGBoost-AdaBoost','Decision tree-XGBoost-AdaBoost'],\n",
    "    'Accuracy' :[mean_accuracy_Boosted_nn,mean_accuracy_Boosted_knn , mean_accuracy_Boosted_svm , mean_accuracy_Boosted_rf,mean_accuracy_Boosted_lr,mean_accuracy_Boosted_dt]\n",
    "})\n",
    "models_voting_Accuracy\n",
    "sns.barplot(x='Accuracy', y='Ensamble Learning Average', data=models_voting_Accuracy)\n",
    "ax = fig.add_subplot(111)\n",
    "ax.spines['bottom'].set_color('black')\n",
    "ax.spines['top'].set_color('black')\n",
    "ax.spines['right'].set_color('black')\n",
    "ax.spines['left'].set_color('black')\n",
    "models_voting_Accuracy.sort_values(by='Accuracy', ascending=False)"
   ]
  },
  {
   "cell_type": "code",
   "execution_count": null,
   "id": "a6a3daee",
   "metadata": {},
   "outputs": [],
   "source": [
    "#---------------Predict with Best Clasifiers------"
   ]
  },
  {
   "cell_type": "code",
   "execution_count": null,
   "id": "b6799780",
   "metadata": {},
   "outputs": [],
   "source": [
    "#-----------------------Predicted By Voting with 'NeuralNetwork' 'LogisticRegression' 'XGBoost' -----------------\n",
    "def GetVoting_NeuralNetwork_LogisticRegression_XGBoost(x_train,y_train,x_test,y_test):\n",
    "  \n",
    "    neuralNetworkClassifier = KerasClassifier(build_fn=GetNeuralNetworkModel)\n",
    "    neuralNetworkClassifier._estimator_type = \"classifier\"\n",
    "    neuralNetworkClassifier_pipe = Pipeline([('scaler', scaler), ('cnn', neuralNetworkClassifier)])\n",
    "    clf1 =neuralNetworkClassifier\n",
    "    clf2 = LogisticRegression()\n",
    "    clf3 = XGBClassifier(n_estimators=800, n_jobs=-1)\n",
    "    eclf1 = VotingClassifier(estimators=[('nn', clf1), ('lr', clf2), ('xgb', clf3)], voting='soft')\n",
    "    eclf1.fit(x_train, y_train)\n",
    "    predictions = eclf1.predict(x_test)\n",
    "    accuracy_voting = accuracy_score(y_test, predictions)\n",
    "    precision = precision_score(y_test, predictions)\n",
    "    recall = recall_score(y_test, predictions)\n",
    "    f1 = f1_score(y_test, predictions)\n",
    "    print(\"NeuralNetwork , LogisticRegression , XGBoost  Voting Classifier accuracy is :\",accuracy_voting)\n",
    "    print(\"NeuralNetwork , LogisticRegression , XGBoost  Voting Classifier precision is :\",precision)\n",
    "    print(\"NeuralNetwork , LogisticRegression , XGBoost  Voting Classifier recall is :\",recall)\n",
    "    print(\"NeuralNetwork , LogisticRegression , XGBoost  Voting Classifier f1 is :\",f1)\n",
    "    print(\"NeuralNetwork,LogisticRegression,XGBoost Voting Classification Reports is:\\n\",classification_report(y_test, predictions))\n",
    "    return round(accuracy_voting*100, 3),round(precision*100, 3),round(recall*100, 3),round(f1*100, 3),eclf1 ,predictions"
   ]
  },
  {
   "cell_type": "code",
   "execution_count": null,
   "id": "4f982cf9",
   "metadata": {},
   "outputs": [],
   "source": [
    "voting_nn_lr_ab_accuracy,voting_nn_lr_ab_precision,voting_nn_lr_ab_recall,voting_nn_lr_ab_f1,voting_nn_lr_ab_model,voting_nn_lr_ab_yPrediction =GetVoting_NeuralNetwork_LogisticRegression_XGBoost(x_train_balance,y_train_balance,x_test_balance,y_test_balance)"
   ]
  },
  {
   "cell_type": "code",
   "execution_count": null,
   "id": "88fa41c7",
   "metadata": {},
   "outputs": [],
   "source": [
    "accuracy_Boosted_balance_nn_lr_xgb = []\n",
    "for x in range(10):\n",
    "    voting_nn_lr_ab_accuracy_mean,voting_nn_lr_ab_precision_mean,voting_nn_lr_ab_recall_mean,voting_nn_lr_ab_f1_mean,voting_nn_lr_ab_model_mean,voting_nn_lr_ab_yPrediction_mean =GetVoting_NeuralNetwork_LogisticRegression_XGBoost(x_train_balance,y_train_balance,x_test_balance,y_test_balance)\n",
    "    accuracy_Boosted_balance_nn_lr_xgb.append(voting_nn_lr_ab_accuracy_mean)\n",
    "    \n",
    "mean_accuracy_Boosted_nn_lr_xgb=mean(accuracy_Boosted_balance_nn_lr_xgb)  "
   ]
  },
  {
   "cell_type": "code",
   "execution_count": null,
   "id": "0803df33",
   "metadata": {},
   "outputs": [],
   "source": [
    "#-----------------Elected Classifier Accuracy Average"
   ]
  },
  {
   "cell_type": "code",
   "execution_count": null,
   "id": "42ecaf90",
   "metadata": {},
   "outputs": [],
   "source": [
    "mean_accuracy_Boosted_nn_lr_xgb"
   ]
  },
  {
   "cell_type": "code",
   "execution_count": null,
   "id": "35056d5f",
   "metadata": {
    "scrolled": false
   },
   "outputs": [],
   "source": [
    "labels=['Neural network ','KNN', 'SVM', 'Random forest','Logistic regression','Decision tree']\n",
    "values=[mean_accuracy_Boosted_nn,mean_accuracy_Boosted_knn , mean_accuracy_Boosted_svm , mean_accuracy_Boosted_rf,mean_accuracy_Boosted_lr,mean_accuracy_Boosted_dt]\n",
    "\n",
    "fig = go.Figure(data=[go.Pie(labels=labels, values=values, hole=.3)])\n",
    "fig.update_layout(title_text=\"Average accuracy Score Distribution\",font_size=22)\n",
    "fig.show()"
   ]
  },
  {
   "cell_type": "code",
   "execution_count": null,
   "id": "41c0465d",
   "metadata": {},
   "outputs": [],
   "source": [
    "#------------------ROC--------------------------"
   ]
  },
  {
   "cell_type": "code",
   "execution_count": null,
   "id": "44e5090b",
   "metadata": {},
   "outputs": [],
   "source": [
    "roc_auc_nn,roc_fpr_nn,roc_tpr_nn=GetNNROC(nn_model,x_test,y_test,nn_yPrediction,'Neural network')"
   ]
  },
  {
   "cell_type": "code",
   "execution_count": null,
   "id": "75a8dd9b",
   "metadata": {},
   "outputs": [],
   "source": [
    "roc_auc_knn,roc_fpr_knn,roc_tpr_knn=GetROC(knn_model,x_test,y_test,'KNN')"
   ]
  },
  {
   "cell_type": "code",
   "execution_count": null,
   "id": "d82a31d9",
   "metadata": {},
   "outputs": [],
   "source": [
    "roc_auc_svm,roc_fpr_svm,roc_tpr_svm=GetROC(svm_model,x_test,y_test,'SVM')"
   ]
  },
  {
   "cell_type": "code",
   "execution_count": null,
   "id": "c39f45d0",
   "metadata": {},
   "outputs": [],
   "source": [
    "roc_auc_rf,roc_fpr_rf,roc_tpr_rf=GetROC(rf_model,x_test,y_test,'Random forest')"
   ]
  },
  {
   "cell_type": "code",
   "execution_count": null,
   "id": "cdcd0356",
   "metadata": {},
   "outputs": [],
   "source": [
    "roc_auc_lr,roc_fpr_lr,roc_tpr_lr=GetROC(lr_model,x_test,y_test,'Logistic regression')"
   ]
  },
  {
   "cell_type": "code",
   "execution_count": null,
   "id": "2c8b25ca",
   "metadata": {},
   "outputs": [],
   "source": [
    "roc_auc_dt,roc_fpr_dt,roc_tpr_dt=GetROC(dt_model,x_test,y_test,'Decision tree')"
   ]
  },
  {
   "cell_type": "code",
   "execution_count": null,
   "id": "d66b6b69",
   "metadata": {},
   "outputs": [],
   "source": [
    "#-------------------ROC After Balanced Data Set"
   ]
  },
  {
   "cell_type": "code",
   "execution_count": null,
   "id": "34181333",
   "metadata": {},
   "outputs": [],
   "source": [
    "roc_auc_nn_balance,roc_fpr_nn_balance,roc_tpr_nn_balance=GetNNROC(nn_balance_model,x_test_balance,y_test_balance,nn_balance_yPrediction,'Neural network')"
   ]
  },
  {
   "cell_type": "code",
   "execution_count": null,
   "id": "62e6a979",
   "metadata": {},
   "outputs": [],
   "source": [
    "roc_auc_knn_balance,roc_fpr_knn_balance,roc_tpr_knn_balance=GetROC(knn_balance_model,x_test_balance,y_test_balance,\"KNN\")"
   ]
  },
  {
   "cell_type": "code",
   "execution_count": null,
   "id": "dba0cf1c",
   "metadata": {},
   "outputs": [],
   "source": [
    "roc_auc_svm_balance,roc_fpr_svm_balance,roc_tpr_svm_balance=GetROC(svm_balance_model,x_test_balance,y_test_balance,\"SVM\")"
   ]
  },
  {
   "cell_type": "code",
   "execution_count": null,
   "id": "b4819d13",
   "metadata": {},
   "outputs": [],
   "source": [
    "roc_auc_rf_balance,roc_fpr_rf_balance,roc_tpr_rf_balance=GetROC(rf_balance_model,x_test_balance,y_test_balance,\"Random forest\")"
   ]
  },
  {
   "cell_type": "code",
   "execution_count": null,
   "id": "36d74a1b",
   "metadata": {},
   "outputs": [],
   "source": [
    "roc_auc_lr_balance,roc_fpr_lr_balance,roc_tpr_lr_balance=GetROC(lr_balance_model,x_test_balance,y_test_balance,\"Logistic regression\")"
   ]
  },
  {
   "cell_type": "code",
   "execution_count": null,
   "id": "4a7acb44",
   "metadata": {},
   "outputs": [],
   "source": [
    "roc_auc_dt_balance,roc_fpr_dt_balance,roc_tpr_dt_balance=GetROC(dt_balance_model,x_test_balance,y_test_balance,\"Decision tree\")"
   ]
  },
  {
   "cell_type": "code",
   "execution_count": null,
   "id": "8633bfae",
   "metadata": {},
   "outputs": [],
   "source": [
    "#-------------- Compare Before and after balancing"
   ]
  },
  {
   "cell_type": "code",
   "execution_count": null,
   "id": "698c48d1",
   "metadata": {},
   "outputs": [],
   "source": [
    "    fig=plt.figure(facecolor=(1, 1, 1),figsize=(9,7))\n",
    "    label_font = {'size':'28'}  # Adjust to fit\n",
    "    title_font = {'size':'24'}  # Adjust to fit\n",
    "    plt.plot([0, 1], [0, 1], 'k--' )\n",
    "    #plt.plot(fpr_rf, tpr_rf,'b', label=title,marker='.',color='r')\n",
    "    plt.plot(roc_fpr_nn,roc_tpr_nn, label= \"Imbalanced\")\n",
    "    plt.plot(roc_fpr_nn_balance, roc_tpr_nn_balance, label= \"Balanced\")\n",
    "    plt.legend()\n",
    "    plt.xlabel('False Positive Rate', fontdict=label_font)\n",
    "    plt.ylabel('True Positive Rate', fontdict=label_font)\n",
    "    plt.title(\"Neural network\",fontdict=title_font)\n",
    "    plt.rcParams['axes.facecolor'] = 'none'\n",
    "    plt.savefig('ROC',dpi=300)\n",
    "    ax = fig.add_subplot(111)\n",
    "    ax.spines['bottom'].set_color('black')\n",
    "    ax.spines['top'].set_color('black')\n",
    "    ax.spines['right'].set_color('black')\n",
    "    ax.spines['left'].set_color('black')\n",
    "    plt.show();"
   ]
  },
  {
   "cell_type": "code",
   "execution_count": null,
   "id": "5c248a51",
   "metadata": {},
   "outputs": [],
   "source": [
    "    fig=plt.figure(facecolor=(1, 1, 1),figsize=(9,7))\n",
    "    label_font = {'size':'28'}  # Adjust to fit\n",
    "    title_font = {'size':'24'}  # Adjust to fit\n",
    "    plt.plot([0, 1], [0, 1], 'k--' )\n",
    "    #plt.plot(fpr_rf, tpr_rf,'b', label=title,marker='.',color='r')\n",
    "    plt.plot(roc_fpr_knn,roc_tpr_knn, label= \"Imbalanced\")\n",
    "    plt.plot(roc_fpr_knn_balance, roc_tpr_knn_balance, label= \"Balanced\")\n",
    "    plt.legend()\n",
    "    plt.xlabel('False Positive Rate', fontdict=label_font)\n",
    "    plt.ylabel('True Positive Rate', fontdict=label_font)\n",
    "    plt.title(\"KNN\",fontdict=title_font)\n",
    "    plt.rcParams['axes.facecolor'] = 'none'\n",
    "    plt.savefig('ROC',dpi=300)\n",
    "    ax = fig.add_subplot(111)\n",
    "    ax.spines['bottom'].set_color('black')\n",
    "    ax.spines['top'].set_color('black')\n",
    "    ax.spines['right'].set_color('black')\n",
    "    ax.spines['left'].set_color('black')\n",
    "    plt.show();"
   ]
  },
  {
   "cell_type": "code",
   "execution_count": null,
   "id": "999784f6",
   "metadata": {},
   "outputs": [],
   "source": [
    "    fig=plt.figure(facecolor=(1, 1, 1),figsize=(9,7))\n",
    "    label_font = {'size':'28'}  # Adjust to fit\n",
    "    title_font = {'size':'24'}  # Adjust to fit\n",
    "    plt.plot([0, 1], [0, 1], 'k--' )\n",
    "    #plt.plot(fpr_rf, tpr_rf,'b', label=title,marker='.',color='r')\n",
    "    plt.plot(roc_fpr_svm,roc_tpr_svm, label= \"Imbalanced\")\n",
    "    plt.plot(roc_fpr_svm_balance, roc_tpr_svm_balance, label= \"Balanced\")\n",
    "    plt.legend()\n",
    "    plt.xlabel('False Positive Rate', fontdict=label_font)\n",
    "    plt.ylabel('True Positive Rate', fontdict=label_font)\n",
    "    plt.title(\"SVM\",fontdict=title_font)\n",
    "    plt.rcParams['axes.facecolor'] = 'none'\n",
    "    plt.savefig('ROC',dpi=300)\n",
    "    ax = fig.add_subplot(111)\n",
    "    ax.spines['bottom'].set_color('black')\n",
    "    ax.spines['top'].set_color('black')\n",
    "    ax.spines['right'].set_color('black')\n",
    "    ax.spines['left'].set_color('black')\n",
    "    plt.show();"
   ]
  },
  {
   "cell_type": "code",
   "execution_count": null,
   "id": "fb526946",
   "metadata": {},
   "outputs": [],
   "source": [
    "    fig=plt.figure(facecolor=(1, 1, 1),figsize=(9,7))\n",
    "    label_font = {'size':'28'}  # Adjust to fit\n",
    "    title_font = {'size':'24'}  # Adjust to fit\n",
    "    plt.plot([0, 1], [0, 1], 'k--' )\n",
    "    #plt.plot(fpr_rf, tpr_rf,'b', label=title,marker='.',color='r')\n",
    "    plt.plot(roc_fpr_rf,roc_tpr_rf, label= \"Imbalanced\")\n",
    "    plt.plot(roc_fpr_rf_balance, roc_tpr_rf_balance, label= \"Balanced\")\n",
    "    plt.legend()\n",
    "    plt.xlabel('False Positive Rate', fontdict=label_font)\n",
    "    plt.ylabel('True Positive Rate', fontdict=label_font)\n",
    "    plt.title(\"Random Forest\",fontdict=title_font)\n",
    "    plt.rcParams['axes.facecolor'] = 'none'\n",
    "    plt.savefig('ROC',dpi=300)\n",
    "    ax = fig.add_subplot(111)\n",
    "    ax.spines['bottom'].set_color('black')\n",
    "    ax.spines['top'].set_color('black')\n",
    "    ax.spines['right'].set_color('black')\n",
    "    ax.spines['left'].set_color('black')\n",
    "    plt.show();"
   ]
  },
  {
   "cell_type": "code",
   "execution_count": null,
   "id": "12f8eed3",
   "metadata": {},
   "outputs": [],
   "source": [
    "    fig=plt.figure(facecolor=(1, 1, 1),figsize=(9,7))\n",
    "    label_font = {'size':'28'}  # Adjust to fit\n",
    "    title_font = {'size':'24'}  # Adjust to fit\n",
    "    plt.plot([0, 1], [0, 1], 'k--' )\n",
    "    #plt.plot(fpr_rf, tpr_rf,'b', label=title,marker='.',color='r')\n",
    "    plt.plot(roc_fpr_lr,roc_tpr_lr, label= \"Imbalanced\")\n",
    "    plt.plot(roc_fpr_lr_balance, roc_tpr_lr_balance, label= \"Balanced\")\n",
    "    plt.legend()\n",
    "    plt.xlabel('False Positive Rate', fontdict=label_font)\n",
    "    plt.ylabel('True Positive Rate', fontdict=label_font)\n",
    "    plt.title(\"Logistic regression\",fontdict=title_font)\n",
    "    plt.rcParams['axes.facecolor'] = 'none'\n",
    "    plt.savefig('ROC',dpi=300)\n",
    "    ax = fig.add_subplot(111)\n",
    "    ax.spines['bottom'].set_color('black')\n",
    "    ax.spines['top'].set_color('black')\n",
    "    ax.spines['right'].set_color('black')\n",
    "    ax.spines['left'].set_color('black')\n",
    "    plt.show();"
   ]
  },
  {
   "cell_type": "code",
   "execution_count": null,
   "id": "823e5f2e",
   "metadata": {},
   "outputs": [],
   "source": [
    "    fig=plt.figure(facecolor=(1, 1, 1),figsize=(9,7))\n",
    "    label_font = {'size':'28'}  # Adjust to fit\n",
    "    title_font = {'size':'24'}  # Adjust to fit\n",
    "    plt.plot([0, 1], [0, 1], 'k--' )\n",
    "    #plt.plot(fpr_rf, tpr_rf,'b', label=title,marker='.',color='r')\n",
    "    plt.plot(roc_fpr_dt,roc_tpr_dt, label= \"Imbalanced\")\n",
    "    plt.plot(roc_fpr_dt_balance, roc_tpr_dt_balance, label= \"Balanced\")\n",
    "    plt.legend()\n",
    "    plt.xlabel('False Positive Rate', fontdict=label_font)\n",
    "    plt.ylabel('True Positive Rate', fontdict=label_font)\n",
    "    plt.title(\"Decision tree\",fontdict=title_font)\n",
    "    plt.rcParams['axes.facecolor'] = 'none'\n",
    "    plt.savefig('ROC',dpi=300)\n",
    "    ax = fig.add_subplot(111)\n",
    "    ax.spines['bottom'].set_color('black')\n",
    "    ax.spines['top'].set_color('black')\n",
    "    ax.spines['right'].set_color('black')\n",
    "    ax.spines['left'].set_color('black')\n",
    "    plt.show();"
   ]
  },
  {
   "cell_type": "code",
   "execution_count": null,
   "id": "34253118",
   "metadata": {},
   "outputs": [],
   "source": [
    "fig = go.Figure()\n",
    "fig.add_trace(go.Bar(\n",
    "  x = ['Imbalanced dataset', 'Balanced dataset'],\n",
    "  y = [round(roc_auc_nn*100, 2),round(roc_auc_nn_balance*100, 2)],\n",
    "  name = 'Neural network',\n",
    "  text =[round(roc_auc_nn*100, 2),round(roc_auc_nn_balance*100, 2)]\n",
    "))\n",
    "fig.add_trace(go.Bar(\n",
    "    x = ['Imbalanced dataset', 'Balanced dataset'],\n",
    "    y = [round(roc_auc_knn*100, 2),round(roc_auc_knn_balance*100, 2)],\n",
    "    name = 'KNN',\n",
    "    text =[round(roc_auc_knn*100, 2),round(roc_auc_knn_balance*100, 2)] \n",
    "))\n",
    "fig.add_trace(go.Bar(\n",
    "    x = ['Imbalanced dataset', 'Balanced dataset'],\n",
    "    y = [round(roc_auc_svm*100, 2),round(roc_auc_svm_balance*100, 2)],\n",
    "    name = 'SVM',\n",
    "    text =[round(roc_auc_svm*100, 2),round(roc_auc_svm_balance*100, 2)]  \n",
    "))\n",
    "fig.add_trace(go.Bar(\n",
    "   x = ['Imbalanced dataset', 'Balanced dataset'],\n",
    "   y = [round(roc_auc_rf*100, 2),round(roc_auc_rf_balance*100, 2)],\n",
    "   name = 'Random Forest',\n",
    "   text =[round(roc_auc_rf*100, 2),round(roc_auc_rf_balance*100, 2)]  \n",
    ")),\n",
    "fig.add_trace(go.Bar(\n",
    "   x = ['Imbalanced dataset', 'Balanced dataset'],\n",
    "   y = [round(roc_auc_lr*100, 2),round(roc_auc_lr_balance*100, 2)],\n",
    "   name = 'Logistic regression',\n",
    "   text =[round(roc_auc_lr*100, 2),round(roc_auc_lr_balance*100, 2)]  \n",
    ")),\n",
    "fig.add_trace(go.Bar(\n",
    "   x = ['Imbalanced dataset', 'Balanced dataset'],\n",
    "   y = [round(roc_auc_dt*100, 2),round(roc_auc_dt_balance*100, 2)],\n",
    "   name = 'Decision tree',\n",
    "   text =[round(roc_auc_dt*100, 2),round(roc_auc_dt_balance*100, 2)]  \n",
    "))\n",
    "fig.update_layout(title_text=\"Compare AUC before and after data set balancing\",font_size=18,plot_bgcolor='rgba(0,0,0,0)')\n",
    "fig.update_xaxes(showline=True, linewidth=1, linecolor='black', mirror=True)\n",
    "fig.update_yaxes(showline=True, linewidth=1, linecolor='black', mirror=True)\n",
    "fig.show()"
   ]
  },
  {
   "cell_type": "code",
   "execution_count": null,
   "id": "b50e0d0c",
   "metadata": {},
   "outputs": [],
   "source": [
    "#--------------Voting ROC----------"
   ]
  },
  {
   "cell_type": "code",
   "execution_count": null,
   "id": "a24c6ff4",
   "metadata": {},
   "outputs": [],
   "source": [
    "roc_auc_nn_balance_voting,roc_fpr_nn_balance_voting,roc_tpr_nn_balance_voting=GetROC(voting_nn_model,x_test_balance,y_test_balance,\"EML with neural network-XGBoost-AdaBoost\")"
   ]
  },
  {
   "cell_type": "code",
   "execution_count": null,
   "id": "39643aad",
   "metadata": {},
   "outputs": [],
   "source": [
    "roc_auc_knn_balance_voting,roc_fpr_knn_balance_voting,roc_tpr_knn_balance_voting=GetROC(voting_knn_model,x_test_balance,y_test_balance,\"EML with KNN-XGBoost-AdaBoost\")"
   ]
  },
  {
   "cell_type": "code",
   "execution_count": null,
   "id": "c4937d1a",
   "metadata": {},
   "outputs": [],
   "source": [
    "roc_auc_svm_balance_voting,roc_fpr_svm_balance_voting,roc_tpr_svm_balance_voting=GetROC(voting_svm_model,x_test_balance,y_test_balance,\"EML with SVM-XGBoost-AdaBoost\")"
   ]
  },
  {
   "cell_type": "code",
   "execution_count": null,
   "id": "34a49faa",
   "metadata": {},
   "outputs": [],
   "source": [
    "roc_auc_rf_balance_voting,roc_fpr_rf_balance_voting,roc_tpr_rf_balance_voting=GetROC(voting_rf_model,x_test_balance,y_test_balance,\"EML with Random forest-XGBoost-AdaBoost\")"
   ]
  },
  {
   "cell_type": "code",
   "execution_count": null,
   "id": "074ed158",
   "metadata": {},
   "outputs": [],
   "source": [
    "roc_auc_lr_balance_voting,roc_fpr_lr_balance_voting,roc_tpr_lr_balance_voting=GetROC(voting_lr_model,x_test_balance,y_test_balance,\"EML with Logistic regression-XGBoost-AdaBoost\")"
   ]
  },
  {
   "cell_type": "code",
   "execution_count": null,
   "id": "23c0142c",
   "metadata": {},
   "outputs": [],
   "source": [
    "roc_auc_dt_balance_voting,roc_fpr_dt_balance_voting,roc_tpr_dt_balance_voting=GetROC(voting_dt_model,x_test_balance,y_test_balance,\"EML with Decision tree-XGBoost-AdaBoost\")"
   ]
  },
  {
   "cell_type": "code",
   "execution_count": null,
   "id": "87fa7a1c",
   "metadata": {},
   "outputs": [],
   "source": [
    "roc_auc_dt_balance_voting,roc_fpr_dt_balance_voting,roc_tpr_dt_balance_voting=GetROC(voting_nn_lr_ab_model,x_test_balance,y_test_balance,\"EML with Neural network-Logistic regression-XGBoost\")"
   ]
  },
  {
   "cell_type": "code",
   "execution_count": null,
   "id": "4907fb03",
   "metadata": {},
   "outputs": [],
   "source": [
    "    fig=plt.figure(facecolor=(1, 1, 1),figsize=(10,10))\n",
    "    label_font = {'size':'28'}  # Adjust to fit\n",
    "    title_font = {'size':'24'}  # Adjust to fit\n",
    "    plt.plot([0, 1], [0, 1], 'k--' )\n",
    "    plt.plot(roc_fpr_nn, roc_tpr_nn, label= \"Neural network\")\n",
    "    plt.plot(roc_fpr_knn, roc_tpr_knn, label= \"KNN\")\n",
    "    plt.plot(roc_fpr_svm, roc_tpr_svm, label= \"SVM\")\n",
    "    plt.plot(roc_fpr_rf, roc_tpr_rf, label= \"Random forest\")\n",
    "    plt.plot(roc_fpr_lr, roc_tpr_lr, label= \"Logistic regression\")\n",
    "    plt.plot(roc_fpr_dt, roc_tpr_dt, label= \"Decision tree \")\n",
    "    plt.legend()\n",
    "    plt.xlabel('False Positive Rate', fontdict=label_font)\n",
    "    plt.ylabel('True Positive Rate', fontdict=label_font)\n",
    "    plt.title(\"Comparison of Classifiers with Imbalanced dataset\",fontdict=title_font)\n",
    "    plt.rcParams['axes.facecolor'] = 'none'\n",
    "    plt.savefig('ROC',dpi=300)\n",
    "    ax = fig.add_subplot(111)\n",
    "    ax.spines['bottom'].set_color('black')\n",
    "    ax.spines['top'].set_color('black')\n",
    "    ax.spines['right'].set_color('black')\n",
    "    ax.spines['left'].set_color('black')\n",
    "    plt.show();"
   ]
  },
  {
   "cell_type": "code",
   "execution_count": null,
   "id": "1dd25890",
   "metadata": {},
   "outputs": [],
   "source": [
    "    fig=plt.figure(facecolor=(1, 1, 1),figsize=(10,10))\n",
    "    label_font = {'size':'28'}  # Adjust to fit\n",
    "    title_font = {'size':'24'}  # Adjust to fit\n",
    "    plt.plot([0, 1], [0, 1], 'k--' )\n",
    "    plt.plot(roc_fpr_nn_balance,roc_tpr_nn_balance, label= \"Neural network\")\n",
    "    plt.plot(roc_fpr_knn_balance, roc_tpr_knn_balance, label= \"KNN\")\n",
    "    plt.plot(roc_fpr_svm_balance, roc_tpr_svm_balance, label= \"SVM\")\n",
    "    plt.plot(roc_fpr_rf_balance, roc_tpr_rf_balance, label= \"Random forest\")\n",
    "    plt.plot(roc_fpr_lr_balance, roc_tpr_lr_balance, label= \"Logistic regression\")\n",
    "    plt.plot(roc_fpr_dt_balance, roc_tpr_dt_balance, label= \"Decision tree \")\n",
    "    plt.legend()\n",
    "    plt.xlabel('False Positive Rate', fontdict=label_font)\n",
    "    plt.ylabel('True Positive Rate', fontdict=label_font)\n",
    "    plt.title(\"Comparison of Classifiers with balanced dataset\",fontdict=title_font)\n",
    "    plt.rcParams['axes.facecolor'] = 'none'\n",
    "    plt.savefig('ROC',dpi=300)\n",
    "    ax = fig.add_subplot(111)\n",
    "    ax.spines['bottom'].set_color('black')\n",
    "    ax.spines['top'].set_color('black')\n",
    "    ax.spines['right'].set_color('black')\n",
    "    ax.spines['left'].set_color('black')\n",
    "    plt.show();"
   ]
  },
  {
   "cell_type": "code",
   "execution_count": null,
   "id": "66832f05",
   "metadata": {},
   "outputs": [],
   "source": [
    "    fig=plt.figure(facecolor=(1, 1, 1),figsize=(10,10))\n",
    "    label_font = {'size':'28'}  # Adjust to fit\n",
    "    title_font = {'size':'24'}  # Adjust to fit\n",
    "    plt.plot([0, 1], [0, 1], 'k--' )\n",
    "    plt.plot(roc_fpr_nn_balance_voting,roc_tpr_nn_balance_voting, label= \"Neural network\")\n",
    "    plt.plot(roc_fpr_knn_balance_voting, roc_tpr_knn_balance_voting, label= \"KNN\")\n",
    "    plt.plot(roc_fpr_svm_balance_voting, roc_tpr_svm_balance_voting, label= \"SVM\")\n",
    "    plt.plot(roc_fpr_rf_balance_voting, roc_tpr_rf_balance_voting, label= \"Random forest\")\n",
    "    plt.plot(roc_fpr_lr_balance_voting, roc_tpr_lr_balance_voting, label= \"Logistic regression\")\n",
    "    plt.plot(roc_fpr_dt_balance_voting, roc_tpr_dt_balance_voting, label= \"Decision tree \")\n",
    "    plt.legend()\n",
    "    plt.xlabel('False Positive Rate', fontdict=label_font)\n",
    "    plt.ylabel('True Positive Rate', fontdict=label_font)\n",
    "    plt.title(\"Comparison ensemble learning with balanced dataset\",fontdict=title_font)\n",
    "    plt.rcParams['axes.facecolor'] = 'none'\n",
    "    plt.savefig('ROC',dpi=300)\n",
    "    ax = fig.add_subplot(111)\n",
    "    ax.spines['bottom'].set_color('black')\n",
    "    ax.spines['top'].set_color('black')\n",
    "    ax.spines['right'].set_color('black')\n",
    "    ax.spines['left'].set_color('black')\n",
    "    plt.show();"
   ]
  },
  {
   "cell_type": "code",
   "execution_count": null,
   "id": "2975d456",
   "metadata": {},
   "outputs": [],
   "source": [
    "roc_auc_dt_balance_voting,roc_fpr_dt_balance_voting,roc_tpr_dt_balance_voting=GetROC(voting_nn_lr_ab_model,x_test_balance,y_test_balance,\"EML with Neural network-Logistic regression-XGBoost\")"
   ]
  },
  {
   "cell_type": "code",
   "execution_count": null,
   "id": "c18a7bfd",
   "metadata": {},
   "outputs": [],
   "source": [
    "fig=plt.figure(facecolor=(1, 1, 1),figsize=(10,6))\n",
    "models_Imbalanced_AUC = pd.DataFrame({\n",
    "    'Classifiers':['Neural network','KNN', 'SVM', 'Random forest','Logistic regression','Decision tree'],\n",
    "    'AUC' :[roc_auc_nn,roc_auc_knn,roc_auc_svm,roc_auc_rf,roc_auc_lr,roc_auc_dt]\n",
    "})\n",
    "models_Imbalanced_AUC\n",
    "sns.barplot(x='AUC', y='Classifiers',data=models_Imbalanced_AUC)\n",
    "ax = fig.add_subplot(111)\n",
    "ax.spines['bottom'].set_color('black')\n",
    "ax.spines['top'].set_color('black')\n",
    "ax.spines['right'].set_color('black')\n",
    "ax.spines['left'].set_color('black')\n",
    "models_Imbalanced_AUC.sort_values(by='AUC', ascending=False)"
   ]
  },
  {
   "cell_type": "code",
   "execution_count": null,
   "id": "d8d8ff12",
   "metadata": {},
   "outputs": [],
   "source": [
    "fig=plt.figure(facecolor=(1, 1, 1),figsize=(10,6))\n",
    "models_balanced_AUC = pd.DataFrame({\n",
    "    'Classifiers':['Neural network ','KNN', 'SVM', 'Random forest','Logistic regression','Decision tree'],\n",
    "    'AUC' :[roc_auc_nn_balance,roc_auc_knn_balance,roc_auc_svm_balance,roc_auc_rf_balance,roc_auc_lr_balance,roc_auc_dt_balance]\n",
    "})\n",
    "models_balanced_AUC\n",
    "sns.barplot(x='AUC', y='Classifiers',data=models_balanced_AUC)\n",
    "ax = fig.add_subplot(111)\n",
    "ax.spines['bottom'].set_color('black')\n",
    "ax.spines['top'].set_color('black')\n",
    "ax.spines['right'].set_color('black')\n",
    "ax.spines['left'].set_color('black')\n",
    "models_balanced_AUC.sort_values(by='AUC', ascending=False)"
   ]
  },
  {
   "cell_type": "code",
   "execution_count": null,
   "id": "a7152bbb",
   "metadata": {},
   "outputs": [],
   "source": [
    "fig=plt.figure(facecolor=(1, 1, 1),figsize=(10,6))\n",
    "models_balanced_voting_AUC = pd.DataFrame({\n",
    "    'Ensemble Learning':['Neural network-XGBoost-AdaBoost ','KNN-XGBoost-AdaBoost', 'SVM-XGBoost-AdaBoost', 'Random forest-XGBoost-AdaBoost','Logistic regression-XGBoost-AdaBoost','Decision tree-XGBoost-AdaBoost'],\n",
    "    'AUC' :[roc_auc_nn_balance_voting,roc_auc_knn_balance_voting,roc_auc_svm_balance_voting,roc_auc_rf_balance_voting,roc_auc_lr_balance_voting,roc_auc_dt_balance_voting]\n",
    "})\n",
    "models_balanced_voting_AUC\n",
    "sns.barplot(x='AUC', y='Ensemble Learning',data=models_balanced_voting_AUC)\n",
    "ax = fig.add_subplot(111)\n",
    "ax.spines['bottom'].set_color('black')\n",
    "ax.spines['top'].set_color('black')\n",
    "ax.spines['right'].set_color('black')\n",
    "ax.spines['left'].set_color('black')\n",
    "models_balanced_voting_AUC.sort_values(by='AUC', ascending=False)"
   ]
  },
  {
   "cell_type": "code",
   "execution_count": null,
   "id": "49b6f2c9",
   "metadata": {},
   "outputs": [],
   "source": [
    "#-----------Confusion Matrix----------------------"
   ]
  },
  {
   "cell_type": "code",
   "execution_count": null,
   "id": "e76afbaa",
   "metadata": {},
   "outputs": [],
   "source": [
    "GetConfusionMatrix(y_test, nn_yPredictionActual,'Neural network')"
   ]
  },
  {
   "cell_type": "code",
   "execution_count": null,
   "id": "0625855a",
   "metadata": {},
   "outputs": [],
   "source": [
    "GetConfusionMatrix(y_test, knn_yPrediction,'KNN')"
   ]
  },
  {
   "cell_type": "code",
   "execution_count": null,
   "id": "2e141544",
   "metadata": {},
   "outputs": [],
   "source": [
    "GetConfusionMatrix(y_test, svm_yPrediction,'SVM')"
   ]
  },
  {
   "cell_type": "code",
   "execution_count": null,
   "id": "577f7616",
   "metadata": {},
   "outputs": [],
   "source": [
    "GetConfusionMatrix(y_test, rf_yPrediction,'Random forest')"
   ]
  },
  {
   "cell_type": "code",
   "execution_count": null,
   "id": "81d68a8f",
   "metadata": {},
   "outputs": [],
   "source": [
    "GetConfusionMatrix(y_test, lr_yPrediction,'Logistic regression')"
   ]
  },
  {
   "cell_type": "code",
   "execution_count": null,
   "id": "8b698c18",
   "metadata": {},
   "outputs": [],
   "source": [
    "GetConfusionMatrix(y_test, dt_yPrediction,'Decision tree')"
   ]
  },
  {
   "cell_type": "code",
   "execution_count": null,
   "id": "3531aaac",
   "metadata": {},
   "outputs": [],
   "source": [
    "#-----------balanced dataset Confusion Matrix"
   ]
  },
  {
   "cell_type": "code",
   "execution_count": null,
   "id": "8eba6341",
   "metadata": {},
   "outputs": [],
   "source": [
    "GetConfusionMatrix(y_test_balance, nn_balance_yPredictionActual,'Neural network')"
   ]
  },
  {
   "cell_type": "code",
   "execution_count": null,
   "id": "831165a0",
   "metadata": {},
   "outputs": [],
   "source": [
    "GetConfusionMatrix(y_test_balance, knn_balance_yPrediction,'KNN')"
   ]
  },
  {
   "cell_type": "code",
   "execution_count": null,
   "id": "fe81c18d",
   "metadata": {},
   "outputs": [],
   "source": [
    "GetConfusionMatrix(y_test_balance, svm_balance_yPrediction,'SVM')"
   ]
  },
  {
   "cell_type": "code",
   "execution_count": null,
   "id": "db9894a0",
   "metadata": {},
   "outputs": [],
   "source": [
    "GetConfusionMatrix(y_test_balance, rf_balance_yPrediction,'Random forest')"
   ]
  },
  {
   "cell_type": "code",
   "execution_count": null,
   "id": "29ceadd0",
   "metadata": {},
   "outputs": [],
   "source": [
    "GetConfusionMatrix(y_test_balance, lr_balance_yPrediction,'Logistic regression')"
   ]
  },
  {
   "cell_type": "code",
   "execution_count": null,
   "id": "e9533b18",
   "metadata": {},
   "outputs": [],
   "source": [
    "GetConfusionMatrix(y_test_balance, dt_balance_yPrediction,'Decision tree')"
   ]
  },
  {
   "cell_type": "code",
   "execution_count": null,
   "id": "b0ec4d64",
   "metadata": {},
   "outputs": [],
   "source": [
    "#----------------Voting Confusion Matrix"
   ]
  },
  {
   "cell_type": "code",
   "execution_count": null,
   "id": "d2f69c49",
   "metadata": {},
   "outputs": [],
   "source": [
    "GetConfusionMatrix(y_test_balance, voting_nn_yPrediction,'EML with neural network-XGBoost-AdaBoost')"
   ]
  },
  {
   "cell_type": "code",
   "execution_count": null,
   "id": "0d6114ae",
   "metadata": {},
   "outputs": [],
   "source": [
    "GetConfusionMatrix(y_test_balance, voting_knn_yPrediction,'EML with KNN-XGBoost-AdaBoost')"
   ]
  },
  {
   "cell_type": "code",
   "execution_count": null,
   "id": "021d7584",
   "metadata": {},
   "outputs": [],
   "source": [
    "GetConfusionMatrix(y_test_balance, voting_svm_yPrediction,'EML with SVM-XGBoost-Adaboost')"
   ]
  },
  {
   "cell_type": "code",
   "execution_count": null,
   "id": "d0e260d0",
   "metadata": {},
   "outputs": [],
   "source": [
    "GetConfusionMatrix(y_test_balance, voting_rf_yPrediction,'EML with random forest-XGBoost-AdaBoost')"
   ]
  },
  {
   "cell_type": "code",
   "execution_count": null,
   "id": "9851a5f0",
   "metadata": {},
   "outputs": [],
   "source": [
    "GetConfusionMatrix(y_test_balance, voting_lr_yPrediction,'EML with logistic regression-XGBoost-AdaBoost')"
   ]
  },
  {
   "cell_type": "code",
   "execution_count": null,
   "id": "10d4ddbe",
   "metadata": {},
   "outputs": [],
   "source": [
    "GetConfusionMatrix(y_test_balance, voting_dt_yPrediction,'EML with decision tree-XGBoost-AdaBoost')"
   ]
  },
  {
   "cell_type": "code",
   "execution_count": null,
   "id": "afafd356",
   "metadata": {},
   "outputs": [],
   "source": [
    "#---------NN-LR-XGB ------------"
   ]
  },
  {
   "cell_type": "code",
   "execution_count": null,
   "id": "41946ea3",
   "metadata": {},
   "outputs": [],
   "source": [
    " GetConfusionMatrix(y_test_balance, voting_nn_lr_ab_yPrediction,'EML with neural network-logistic regression-XGBoost')"
   ]
  },
  {
   "cell_type": "code",
   "execution_count": null,
   "id": "2a0c532f",
   "metadata": {},
   "outputs": [],
   "source": [
    "fig = go.Figure()\n",
    "fig.add_trace(go.Bar(\n",
    "  x = ['Balanced dataset :No', 'Balanced dataset:Yes'],\n",
    "  y = [nn_accuracy, nn_balance_accuracy],\n",
    "  name = 'Neural network'\n",
    "))\n",
    "fig.add_trace(go.Bar(\n",
    "    x = ['Balanced dataset :No', 'Balanced dataset:Yes'],\n",
    "    y = [knn_accuracy, knn_balance_accuracy],\n",
    "  name = 'KNN'\n",
    "))\n",
    "fig.add_trace(go.Bar(\n",
    "    x = ['Balanced dataset :No', 'Balanced dataset:Yes'],\n",
    "    y = [svm_accuracy, svm_balance_accuracy],\n",
    "  name = 'SVM',\n",
    "))\n",
    "fig.add_trace(go.Bar(\n",
    "    x = ['Balanced dataset :No', 'Balanced dataset:Yes'],\n",
    "    y = [rf_accuracy, rf_balance_accuracy],\n",
    "  name = 'Random forest',\n",
    "))\n",
    "fig.add_trace(go.Bar(\n",
    "    x = ['Balanced dataset :No', 'Balanced dataset:Yes'],\n",
    "    y = [lr_accuracy, lr_balance_accuracy],\n",
    "  name = 'Logistic regression',\n",
    "))\n",
    "fig.add_trace(go.Bar(\n",
    "    x = ['Balanced dataset :No', 'Balanced dataset:Yes'],\n",
    "    y = [dt_accuracy, dt_balance_accuracy],\n",
    "  name = 'Decision tree',\n",
    "))\n",
    "fig.update_layout(title_text=\"<b>Comparing the accuracy of classifiers before and after data set balancing </b>\",font_size=16,plot_bgcolor='rgba(0,0,0,0)')\n",
    "fig.update_xaxes(showline=True, linewidth=1, linecolor='black', mirror=True)\n",
    "fig.update_yaxes(showline=True, linewidth=1, linecolor='black', mirror=True)\n",
    "fig.show()"
   ]
  },
  {
   "cell_type": "code",
   "execution_count": null,
   "id": "5621192f",
   "metadata": {},
   "outputs": [],
   "source": [
    "fig = go.Figure()\n",
    "fig.add_trace(go.Bar(\n",
    "  x = ['Imbalanced dataset', 'Balanced dataset'],\n",
    "  y = [nn_accuracy, nn_balance_accuracy],\n",
    "  name = 'Accuracy',\n",
    "  text =['{0:.2f}'.format(nn_accuracy),'{0:.2f}'.format(nn_balance_accuracy)]  \n",
    "))\n",
    "fig.add_trace(go.Bar(\n",
    "    x = ['Imbalanced dataset', 'Balanced dataset'],\n",
    "    y = [nn_recall, nn_balance_recall],\n",
    "    name = 'Recall',\n",
    "    text =['{0:.2f}'.format(nn_recall),'{0:.2f}'.format(nn_balance_recall)]  \n",
    "))\n",
    "fig.add_trace(go.Bar(\n",
    "    x = ['Imbalanced dataset', 'Balanced dataset'],\n",
    "    y = [nn_precision, nn_balance_precision],\n",
    "    name = 'Precision',\n",
    "    text =['{0:.2f}'.format(nn_precision),'{0:.2f}'.format(nn_balance_precision)]  \n",
    "))\n",
    "fig.add_trace(go.Bar(\n",
    "   x = ['Imbalanced dataset', 'Balanced dataset'],\n",
    "   y = [nn_f1, nn_balance_f1],\n",
    "   name = 'F1',\n",
    "   text =['{0:.2f}'.format(nn_f1),'{0:.2f}'.format(nn_balance_f1)]  \n",
    "))\n",
    "fig.update_layout(title_text=\"Compare Neural network before and after data set balancing\",font_size=18,plot_bgcolor='rgba(0,0,0,0)')\n",
    "fig.update_xaxes(showline=True, linewidth=1, linecolor='black', mirror=True)\n",
    "fig.update_yaxes(showline=True, linewidth=1, linecolor='black', mirror=True)\n",
    "fig.show()"
   ]
  },
  {
   "cell_type": "code",
   "execution_count": null,
   "id": "cb813ca4",
   "metadata": {},
   "outputs": [],
   "source": [
    "fig = go.Figure()\n",
    "fig.add_trace(go.Bar(\n",
    "  x = ['Imbalanced dataset', 'Balanced dataset'],\n",
    "  y = [knn_accuracy, knn_balance_accuracy],\n",
    "  name = 'Accuracy',\n",
    "  text =['{0:.2f}'.format(knn_accuracy),'{0:.2f}'.format(knn_balance_accuracy)]  \n",
    "))\n",
    "fig.add_trace(go.Bar(\n",
    "    x = ['Imbalanced dataset', 'Balanced dataset'],\n",
    "    y = [knn_recall, knn_balance_recall],\n",
    "    name = 'Recall',\n",
    "    text =['{0:.2f}'.format(knn_recall),'{0:.2f}'.format(knn_balance_recall)]  \n",
    "))\n",
    "fig.add_trace(go.Bar(\n",
    "    x = ['Imbalanced dataset', 'Balanced dataset'],\n",
    "    y = [knn_precision, knn_balance_precision],\n",
    "    name = 'Precision',\n",
    "    text =['{0:.2f}'.format(knn_precision),'{0:.2f}'.format(knn_balance_precision)]  \n",
    "))\n",
    "fig.add_trace(go.Bar(\n",
    "   x = ['Imbalanced dataset', 'Balanced dataset'],\n",
    "   y = [knn_f1, knn_balance_f1],\n",
    "   name = 'F1',\n",
    "   text =['{0:.2f}'.format(knn_f1),'{0:.2f}'.format(knn_balance_f1)]  \n",
    "))\n",
    "fig.update_layout(title_text=\"Compare KNN before and after data set balancing\",font_size=18,plot_bgcolor='rgba(0,0,0,0)')\n",
    "fig.update_xaxes(showline=True, linewidth=1, linecolor='black', mirror=True)\n",
    "fig.update_yaxes(showline=True, linewidth=1, linecolor='black', mirror=True)\n",
    "fig.show()"
   ]
  },
  {
   "cell_type": "code",
   "execution_count": null,
   "id": "d5affde1",
   "metadata": {},
   "outputs": [],
   "source": [
    "fig = go.Figure()\n",
    "fig.add_trace(go.Bar(\n",
    "  x = ['Imbalanced dataset', 'Balanced dataset'],\n",
    "  y = [svm_accuracy, svm_balance_accuracy],\n",
    "  name = 'Accuracy',\n",
    "  text =['{0:.2f}'.format(svm_accuracy),'{0:.2f}'.format(svm_balance_accuracy)]  \n",
    "))\n",
    "fig.add_trace(go.Bar(\n",
    "    x = ['Imbalanced dataset', 'Balanced dataset'],\n",
    "    y = [svm_recall, svm_balance_recall],\n",
    "    name = 'Recall',\n",
    "    text =['{0:.2f}'.format(svm_recall),'{0:.2f}'.format(svm_balance_recall)]  \n",
    "))\n",
    "fig.add_trace(go.Bar(\n",
    "    x = ['Imbalanced dataset', 'Balanced dataset'],\n",
    "    y = [svm_precision, svm_balance_precision],\n",
    "    name = 'Precision',\n",
    "    text =['{0:.2f}'.format(svm_precision),'{0:.2f}'.format(svm_balance_precision)]  \n",
    "))\n",
    "fig.add_trace(go.Bar(\n",
    "   x = ['Imbalanced dataset', 'Balanced dataset'],\n",
    "   y = [svm_f1, svm_balance_f1],\n",
    "   name = 'F1',\n",
    "   text =['{0:.2f}'.format(svm_f1),'{0:.2f}'.format(svm_balance_f1)]  \n",
    "))\n",
    "fig.update_layout(title_text=\"Compare SVM before and after data set balancing\",font_size=18,plot_bgcolor='rgba(0,0,0,0)')\n",
    "fig.update_xaxes(showline=True, linewidth=1, linecolor='black', mirror=True)\n",
    "fig.update_yaxes(showline=True, linewidth=1, linecolor='black', mirror=True)\n",
    "fig.show()"
   ]
  },
  {
   "cell_type": "code",
   "execution_count": null,
   "id": "6b7e6fae",
   "metadata": {},
   "outputs": [],
   "source": [
    "fig = go.Figure()\n",
    "fig.add_trace(go.Bar(\n",
    "  x = ['Imbalanced dataset', 'Balanced dataset'],\n",
    "  y = [rf_accuracy, rf_balance_accuracy],\n",
    "  name = 'Accuracy',\n",
    "  text =['{0:.2f}'.format(rf_accuracy),'{0:.2f}'.format(rf_balance_accuracy)]  \n",
    "))\n",
    "fig.add_trace(go.Bar(\n",
    "    x = ['Imbalanced dataset', 'Balanced dataset'],\n",
    "    y = [rf_recall, rf_balance_recall],\n",
    "    name = 'Recall',\n",
    "    text =['{0:.2f}'.format(rf_recall),'{0:.2f}'.format(rf_balance_recall)]  \n",
    "))\n",
    "fig.add_trace(go.Bar(\n",
    "    x = ['Imbalanced dataset', 'Balanced dataset'],\n",
    "    y = [rf_precision, rf_balance_precision],\n",
    "    name = 'Precision',\n",
    "    text =['{0:.2f}'.format(rf_precision),'{0:.2f}'.format(rf_balance_precision)]  \n",
    "))\n",
    "fig.add_trace(go.Bar(\n",
    "   x = ['Imbalanced dataset', 'Balanced dataset'],\n",
    "   y = [rf_f1, rf_balance_f1],\n",
    "   name = 'F1',\n",
    "   text =['{0:.2f}'.format(rf_f1),'{0:.2f}'.format(rf_balance_f1)]  \n",
    "))\n",
    "fig.update_layout(title_text=\"Compare Random forest before and after data set balancing\",font_size=18,plot_bgcolor='rgba(0,0,0,0)')\n",
    "fig.update_xaxes(showline=True, linewidth=1, linecolor='black', mirror=True)\n",
    "fig.update_yaxes(showline=True, linewidth=1, linecolor='black', mirror=True)\n",
    "fig.show()"
   ]
  },
  {
   "cell_type": "code",
   "execution_count": null,
   "id": "963447cb",
   "metadata": {},
   "outputs": [],
   "source": [
    "fig = go.Figure()\n",
    "fig.add_trace(go.Bar(\n",
    "  x = ['Imbalanced dataset', 'Balanced dataset'],\n",
    "  y = [lr_accuracy, lr_balance_accuracy],\n",
    "  name = 'Accuracy',\n",
    "  text =['{0:.2f}'.format(lr_accuracy),'{0:.2f}'.format(lr_balance_accuracy)]  \n",
    "))\n",
    "fig.add_trace(go.Bar(\n",
    "    x = ['Imbalanced dataset', 'Balanced dataset'],\n",
    "    y = [lr_recall, lr_balance_recall],\n",
    "    name = 'Recall',\n",
    "    text =['{0:.2f}'.format(lr_recall),'{0:.2f}'.format(lr_balance_recall)]  \n",
    "))\n",
    "fig.add_trace(go.Bar(\n",
    "    x = ['Imbalanced dataset', 'Balanced dataset'],\n",
    "    y = [lr_precision, lr_balance_precision],\n",
    "    name = 'Precision',\n",
    "    text =['{0:.2f}'.format(lr_precision),'{0:.2f}'.format(lr_balance_precision)]  \n",
    "))\n",
    "fig.add_trace(go.Bar(\n",
    "   x = ['Imbalanced dataset', 'Balanced dataset'],\n",
    "   y = [lr_f1, lr_balance_f1],\n",
    "   name = 'F1',\n",
    "   text =['{0:.2f}'.format(lr_f1),'{0:.2f}'.format(lr_balance_f1)]  \n",
    "))\n",
    "fig.update_layout(title_text=\"Compare Logistic regression before and after data set balancing\",font_size=18,plot_bgcolor='rgba(0,0,0,0)')\n",
    "fig.update_xaxes(showline=True, linewidth=1, linecolor='black', mirror=True)\n",
    "fig.update_yaxes(showline=True, linewidth=1, linecolor='black', mirror=True)\n",
    "fig.show()"
   ]
  },
  {
   "cell_type": "code",
   "execution_count": null,
   "id": "9c5eea25",
   "metadata": {},
   "outputs": [],
   "source": [
    "fig = go.Figure()\n",
    "fig.add_trace(go.Bar(\n",
    "  x = ['Imbalanced dataset', 'Balanced dataset'],\n",
    "  y = [dt_accuracy, dt_balance_accuracy],\n",
    "  name = 'Accuracy',\n",
    "  text =['{0:.2f}'.format(dt_accuracy),'{0:.2f}'.format(dt_balance_accuracy)]  \n",
    "))\n",
    "fig.add_trace(go.Bar(\n",
    "    x = ['Imbalanced dataset', 'Balanced dataset'],\n",
    "    y = [dt_recall, dt_balance_recall],\n",
    "    name = 'Recall',\n",
    "    text =['{0:.2f}'.format(dt_recall),'{0:.2f}'.format(dt_balance_recall)]  \n",
    "))\n",
    "fig.add_trace(go.Bar(\n",
    "    x = ['Imbalanced dataset', 'Balanced dataset'],\n",
    "    y = [dt_precision, dt_balance_precision],\n",
    "    name = 'Precision',\n",
    "    text =['{0:.2f}'.format(dt_precision),'{0:.2f}'.format(dt_balance_precision)]  \n",
    "))\n",
    "fig.add_trace(go.Bar(\n",
    "   x = ['Imbalanced dataset', 'Balanced dataset'],\n",
    "   y = [dt_f1, dt_balance_f1],\n",
    "   name = 'F1',\n",
    "   text =['{0:.2f}'.format(dt_f1),'{0:.2f}'.format(dt_balance_f1)]  \n",
    "))\n",
    "fig.update_layout(title_text=\"Compare Decision tree before and after data set balancing\",font_size=18,plot_bgcolor='rgba(0,0,0,0)')\n",
    "fig.update_xaxes(showline=True, linewidth=1, linecolor='black', mirror=True)\n",
    "fig.update_yaxes(showline=True, linewidth=1, linecolor='black', mirror=True)\n",
    "fig.show()"
   ]
  },
  {
   "cell_type": "code",
   "execution_count": null,
   "id": "b6f19ea6",
   "metadata": {},
   "outputs": [],
   "source": [
    "fig = go.Figure()\n",
    "fig.add_trace(go.Bar(\n",
    "  x = ['Imbalanced dataset', 'Balanced dataset'],\n",
    "  y = [roc_auc_nn*100, roc_auc_nn_balance*100],\n",
    "  name = 'AUC',\n",
    "  text =['{0:.2f}'.format(roc_auc_nn*100),'{0:.2f}'.format(roc_auc_nn_balance*100)]  \n",
    "))\n",
    "fig.update_layout(title_text=\"Compare Neural network AUC before and after data set balancing\",font_size=18,plot_bgcolor='rgba(0,0,0,0)')\n",
    "fig.update_xaxes(showline=True, linewidth=1, linecolor='black', mirror=True)\n",
    "fig.update_yaxes(showline=True, linewidth=1, linecolor='black', mirror=True)\n",
    "fig.show()"
   ]
  },
  {
   "cell_type": "code",
   "execution_count": null,
   "id": "47228fa9",
   "metadata": {},
   "outputs": [],
   "source": [
    "fig = go.Figure()\n",
    "fig.add_trace(go.Bar(\n",
    "  x = ['Imbalanced dataset', 'Balanced dataset'],\n",
    "  y = [roc_auc_knn*100, roc_auc_knn_balance*100],\n",
    "  name = 'AUC',\n",
    "  text =['{0:.2f}'.format(roc_auc_knn*100),'{0:.2f}'.format(roc_auc_knn_balance*100)]  \n",
    "))\n",
    "fig.update_layout(title_text=\"Compare KNN AUC before and after data set balancing\",font_size=18,plot_bgcolor='rgba(0,0,0,0)')\n",
    "fig.update_xaxes(showline=True, linewidth=1, linecolor='black', mirror=True)\n",
    "fig.update_yaxes(showline=True, linewidth=1, linecolor='black', mirror=True)\n",
    "fig.show()"
   ]
  },
  {
   "cell_type": "code",
   "execution_count": null,
   "id": "77d26e68",
   "metadata": {},
   "outputs": [],
   "source": [
    "fig = go.Figure()\n",
    "fig.add_trace(go.Bar(\n",
    "  x = ['Imbalanced dataset', 'Balanced dataset'],\n",
    "  y = [roc_auc_svm*100, roc_auc_svm_balance*100],\n",
    "  name = 'AUC',\n",
    "  text =['{0:.2f}'.format(roc_auc_svm*100),'{0:.2f}'.format(roc_auc_svm_balance*100)]  \n",
    "))\n",
    "fig.update_layout(title_text=\"Compare SVM AUC before and after data set balancing\",font_size=18,plot_bgcolor='rgba(0,0,0,0)')\n",
    "fig.update_xaxes(showline=True, linewidth=1, linecolor='black', mirror=True)\n",
    "fig.update_yaxes(showline=True, linewidth=1, linecolor='black', mirror=True)\n",
    "fig.show()"
   ]
  },
  {
   "cell_type": "code",
   "execution_count": null,
   "id": "4ffa8301",
   "metadata": {},
   "outputs": [],
   "source": [
    "fig = go.Figure()\n",
    "fig.add_trace(go.Bar(\n",
    "  x = ['Imbalanced dataset', 'Balanced dataset'],\n",
    "  y = [roc_auc_rf*100, roc_auc_rf_balance*100],\n",
    "  name = 'AUC',\n",
    "  text =['{0:.2f}'.format(roc_auc_rf*100),'{0:.2f}'.format(roc_auc_rf_balance*100)]  \n",
    "))\n",
    "fig.update_layout(title_text=\"Compare Random forest AUC before and after data set balancing\",font_size=18,plot_bgcolor='rgba(0,0,0,0)')\n",
    "fig.update_xaxes(showline=True, linewidth=1, linecolor='black', mirror=True)\n",
    "fig.update_yaxes(showline=True, linewidth=1, linecolor='black', mirror=True)\n",
    "fig.show()"
   ]
  },
  {
   "cell_type": "code",
   "execution_count": null,
   "id": "09afcc5c",
   "metadata": {},
   "outputs": [],
   "source": [
    "fig = go.Figure()\n",
    "fig.add_trace(go.Bar(\n",
    "  x = ['Imbalanced dataset', 'Balanced dataset'],\n",
    "  y = [roc_auc_lr*100, roc_auc_lr_balance*100],\n",
    "  name = 'AUC',\n",
    "  text =['{0:.2f}'.format(roc_auc_lr*100),'{0:.2f}'.format(roc_auc_lr_balance*100)]  \n",
    "))\n",
    "fig.update_layout(title_text=\"Compare Logistic regression AUC before and after data set balancing\",font_size=18,plot_bgcolor='rgba(0,0,0,0)')\n",
    "fig.update_xaxes(showline=True, linewidth=1, linecolor='black', mirror=True)\n",
    "fig.update_yaxes(showline=True, linewidth=1, linecolor='black', mirror=True)\n",
    "fig.show()"
   ]
  },
  {
   "cell_type": "code",
   "execution_count": null,
   "id": "efed08c5",
   "metadata": {},
   "outputs": [],
   "source": [
    "fig = go.Figure()\n",
    "fig.add_trace(go.Bar(\n",
    "  x = ['Imbalanced dataset', 'Balanced dataset'],\n",
    "  y = [roc_auc_dt*100, roc_auc_dt_balance*100],\n",
    "  name = 'AUC',\n",
    "  text =['{0:.2f}'.format(roc_auc_dt*100),'{0:.2f}'.format(roc_auc_dt_balance*100)]  \n",
    "))\n",
    "fig.update_layout(title_text=\"Compare Decision tree AUC before and after data set balancing\",font_size=18,plot_bgcolor='rgba(0,0,0,0)')\n",
    "fig.update_xaxes(showline=True, linewidth=1, linecolor='black', mirror=True)\n",
    "fig.update_yaxes(showline=True, linewidth=1, linecolor='black', mirror=True)\n",
    "fig.show()"
   ]
  },
  {
   "cell_type": "code",
   "execution_count": null,
   "id": "01242b5c",
   "metadata": {},
   "outputs": [],
   "source": []
  }
 ],
 "metadata": {
  "kernelspec": {
   "display_name": "Python 3",
   "language": "python",
   "name": "python3"
  },
  "language_info": {
   "codemirror_mode": {
    "name": "ipython",
    "version": 3
   },
   "file_extension": ".py",
   "mimetype": "text/x-python",
   "name": "python",
   "nbconvert_exporter": "python",
   "pygments_lexer": "ipython3",
   "version": "3.8.8"
  }
 },
 "nbformat": 4,
 "nbformat_minor": 5
}
